{
 "cells": [
  {
   "cell_type": "markdown",
   "metadata": {},
   "source": [
    "# Data Science for Music"
   ]
  },
  {
   "cell_type": "markdown",
   "metadata": {},
   "source": [
    "## Dataset Sources:\n",
    "\n",
    "1. My Winamp's music library's Media Library Export - can be found under data/music_library_export.xml\n",
    "2. My Last.fm account's scrobbles (time series of when each song was played) extracted from [here](https://lastfm.ghan.nl/export/) - can be found under data/lastfm-scrobbles-edchapa.csv\n",
    "3. [GTZAN Dataset - Music Genre Classification](https://www.kaggle.com/datasets/andradaolteanu/gtzan-dataset-music-genre-classification)"
   ]
  },
  {
   "cell_type": "markdown",
   "metadata": {},
   "source": [
    "## Process"
   ]
  },
  {
   "cell_type": "markdown",
   "metadata": {},
   "source": [
    "First, I exported my song library from Winamp, which already contains some information like track name, artist, genre, etc.\n",
    "\n",
    "However, the export is in iTunes XML format, so I will have to convert it into csv format first using Python's xmltodict and csv libraries. Let's also instsall altair since we will use it later."
   ]
  },
  {
   "cell_type": "code",
   "execution_count": 80,
   "metadata": {},
   "outputs": [
    {
     "name": "stdout",
     "output_type": "stream",
     "text": [
      "Requirement already satisfied: xmltodict in /opt/homebrew/lib/python3.11/site-packages (0.13.0)\n",
      "\n",
      "\u001b[1m[\u001b[0m\u001b[34;49mnotice\u001b[0m\u001b[1;39;49m]\u001b[0m\u001b[39;49m A new release of pip is available: \u001b[0m\u001b[31;49m23.2.1\u001b[0m\u001b[39;49m -> \u001b[0m\u001b[32;49m23.3.1\u001b[0m\n",
      "\u001b[1m[\u001b[0m\u001b[34;49mnotice\u001b[0m\u001b[1;39;49m]\u001b[0m\u001b[39;49m To update, run: \u001b[0m\u001b[32;49mpython3.11 -m pip install --upgrade pip\u001b[0m\n",
      "Note: you may need to restart the kernel to use updated packages.\n",
      "Requirement already satisfied: altair in /opt/homebrew/lib/python3.11/site-packages (5.1.1)\n",
      "Requirement already satisfied: jinja2 in /opt/homebrew/lib/python3.11/site-packages (from altair) (3.1.2)\n",
      "Requirement already satisfied: jsonschema>=3.0 in /opt/homebrew/lib/python3.11/site-packages (from altair) (4.19.0)\n",
      "Requirement already satisfied: numpy in /opt/homebrew/lib/python3.11/site-packages (from altair) (1.23.5)\n",
      "Requirement already satisfied: packaging in /opt/homebrew/lib/python3.11/site-packages (from altair) (23.1)\n",
      "Requirement already satisfied: pandas>=0.25 in /opt/homebrew/lib/python3.11/site-packages (from altair) (2.0.0)\n",
      "Requirement already satisfied: toolz in /opt/homebrew/lib/python3.11/site-packages (from altair) (0.12.0)\n",
      "Requirement already satisfied: attrs>=22.2.0 in /opt/homebrew/lib/python3.11/site-packages (from jsonschema>=3.0->altair) (23.1.0)\n",
      "Requirement already satisfied: jsonschema-specifications>=2023.03.6 in /opt/homebrew/lib/python3.11/site-packages (from jsonschema>=3.0->altair) (2023.7.1)\n",
      "Requirement already satisfied: referencing>=0.28.4 in /opt/homebrew/lib/python3.11/site-packages (from jsonschema>=3.0->altair) (0.30.2)\n",
      "Requirement already satisfied: rpds-py>=0.7.1 in /opt/homebrew/lib/python3.11/site-packages (from jsonschema>=3.0->altair) (0.10.3)\n",
      "Requirement already satisfied: python-dateutil>=2.8.2 in /opt/homebrew/lib/python3.11/site-packages (from pandas>=0.25->altair) (2.8.2)\n",
      "Requirement already satisfied: pytz>=2020.1 in /opt/homebrew/lib/python3.11/site-packages (from pandas>=0.25->altair) (2023.3)\n",
      "Requirement already satisfied: tzdata>=2022.1 in /opt/homebrew/lib/python3.11/site-packages (from pandas>=0.25->altair) (2023.3)\n",
      "Requirement already satisfied: MarkupSafe>=2.0 in /opt/homebrew/lib/python3.11/site-packages (from jinja2->altair) (2.1.2)\n",
      "Requirement already satisfied: six>=1.5 in /opt/homebrew/lib/python3.11/site-packages (from python-dateutil>=2.8.2->pandas>=0.25->altair) (1.16.0)\n",
      "\n",
      "\u001b[1m[\u001b[0m\u001b[34;49mnotice\u001b[0m\u001b[1;39;49m]\u001b[0m\u001b[39;49m A new release of pip is available: \u001b[0m\u001b[31;49m23.2.1\u001b[0m\u001b[39;49m -> \u001b[0m\u001b[32;49m23.3.1\u001b[0m\n",
      "\u001b[1m[\u001b[0m\u001b[34;49mnotice\u001b[0m\u001b[1;39;49m]\u001b[0m\u001b[39;49m To update, run: \u001b[0m\u001b[32;49mpython3.11 -m pip install --upgrade pip\u001b[0m\n",
      "Note: you may need to restart the kernel to use updated packages.\n"
     ]
    }
   ],
   "source": [
    "%pip install xmltodict\n",
    "%pip install altair"
   ]
  },
  {
   "cell_type": "markdown",
   "metadata": {},
   "source": [
    "First we read the xml file, and create the output csv file."
   ]
  },
  {
   "cell_type": "code",
   "execution_count": 81,
   "metadata": {},
   "outputs": [],
   "source": [
    "import xmltodict, csv\n",
    "\n",
    "with open('data/music_library_export.xml') as xml_file:\n",
    "    xml_file = xmltodict.parse(xml_file.read())\n",
    "\n",
    "csv_file = open(\"data/music_library_export.csv\", \"w\", encoding=\"utf-8\", newline='')\n",
    "csv_file_writer = csv.writer(csv_file)"
   ]
  },
  {
   "cell_type": "markdown",
   "metadata": {},
   "source": [
    "We will use the xml file's keys as the column names for the csv file."
   ]
  },
  {
   "cell_type": "code",
   "execution_count": 82,
   "metadata": {},
   "outputs": [
    {
     "data": {
      "text/plain": [
       "208"
      ]
     },
     "execution_count": 82,
     "metadata": {},
     "output_type": "execute_result"
    }
   ],
   "source": [
    "xml_file_keys = [\"Track ID\", \"Name\", \"Artist\", \"Album Artist\", \"Album\",\n",
    "                 \"Genre\", \"Comments\", \"Kind\", \"Size\", \"Total Time\",\n",
    "                 \"Track Number\", \"Year\", \"Bit Rate\", \"Track Count\",\n",
    "                 \"Composer\", \"Publisher\", \"Location\", \"File Folder Count\",\n",
    "                 \"Library Folder Count\", \"Date Modified\", \"Date Added\"]\n",
    "csv_file_writer.writerow(xml_file_keys)"
   ]
  },
  {
   "cell_type": "markdown",
   "metadata": {},
   "source": [
    "Now we will write a row in the csv file per song in the xml file. Since the xml file is not an xml standard file, we will need to manually parse the values inside the dictionaries contained in it, and process each type of key separately. Since not all songs contain all fields, we will use two counters to keep track of the skipped integer and string values (which are tracked separately in the xml file's dictionary) so we can use them to write the rest of the values in the right column on the csv file. Otherwise, the values in the resulting csv file may be off whenever a song had missing values in the original xml file."
   ]
  },
  {
   "cell_type": "code",
   "execution_count": 83,
   "metadata": {},
   "outputs": [],
   "source": [
    "for song in xml_file['plist']['dict']['dict']['dict']:\n",
    "    song_info = ['' for i in range(len(xml_file_keys))]\n",
    "    skipped_integers = 0\n",
    "    skipped_strings = 0\n",
    "    if \"Track ID\" in song['key']:\n",
    "        song_info[0] = song['integer'][0]\n",
    "    else:\n",
    "        skipped_integers += 1\n",
    "    if \"Name\" in song['key']:\n",
    "        song_info[1] = song['string'][0]\n",
    "    else:\n",
    "        skipped_strings += 1\n",
    "    if \"Artist\" in song['key']:\n",
    "        song_info[2] = song['string'][1 - skipped_strings]\n",
    "    else:\n",
    "        skipped_strings += 1\n",
    "    if \"Album Artist\" in song['key']:\n",
    "        song_info[3] = song['string'][2 - skipped_strings]\n",
    "    else:\n",
    "        skipped_strings += 1\n",
    "    if \"Album\" in song['key']:\n",
    "        song_info[4] = song['string'][3 - skipped_strings]\n",
    "    else:\n",
    "        skipped_strings += 1\n",
    "    if \"Genre\" in song['key']:\n",
    "        song_info[5] = song['string'][4 - skipped_strings]\n",
    "    else:\n",
    "        skipped_strings += 1\n",
    "    if \"Comments\" in song['key']:\n",
    "        song_info[6] = song['string'][5 - skipped_strings]\n",
    "    else:\n",
    "        skipped_strings += 1\n",
    "    if \"Kind\" in song['key']:\n",
    "        song_info[7] = song['string'][6 - skipped_strings]\n",
    "    else:\n",
    "        skipped_strings += 1\n",
    "    if \"Size\" in song['key']:\n",
    "        song_info[8] = song['integer'][1 - skipped_integers]\n",
    "    else:\n",
    "        skipped_integers += 1\n",
    "    if \"Total Time\" in song['key']:\n",
    "        song_info[9] = song['integer'][2 - skipped_integers]\n",
    "    else:\n",
    "        skipped_integers += 1\n",
    "    if \"Track Number\" in song['key']:\n",
    "        song_info[10] = song['integer'][3 - skipped_integers]\n",
    "    else:\n",
    "        skipped_integers += 1\n",
    "    if \"Year\" in song['key']:\n",
    "        song_info[11] = song['integer'][4 - skipped_integers]\n",
    "    else:\n",
    "        skipped_integers += 1\n",
    "    if \"Bit Rate\" in song['key']:\n",
    "        song_info[12] = song['integer'][5 - skipped_integers]\n",
    "    else:\n",
    "        skipped_integers += 1\n",
    "    if \"Track Count\" in song['key']:\n",
    "        song_info[13] = song['integer'][6 - skipped_integers]\n",
    "    else:\n",
    "        skipped_integers += 1\n",
    "    if \"Composer\" in song['key']:\n",
    "        song_info[14] = song['string'][7 - skipped_strings]\n",
    "    else:\n",
    "        skipped_strings += 1\n",
    "    if \"Publisher\" in song['key']:\n",
    "        song_info[15] = song['string'][8 - skipped_strings]\n",
    "    else:\n",
    "        skipped_strings += 1\n",
    "    if \"Location\" in song['key']:\n",
    "        song_info[16] = song['string'][9 - skipped_strings]\n",
    "    if \"File Folder Count\" in song['key']:\n",
    "        song_info[17] = song['integer'][7 - skipped_integers]\n",
    "    else:\n",
    "        skipped_integers += 1\n",
    "    if \"Library Folder Count\" in song['key']:\n",
    "        song_info[18] = song['integer'][8 - skipped_integers]\n",
    "    if \"Date Modified\" in song['key']:\n",
    "        song_info[19] = song['date'][0]\n",
    "    if \"Date Added\" in song['key']:\n",
    "        song_info[20] = song['date'][1]\n",
    "    csv_file_writer.writerow(song_info)\n",
    "csv_file.close()"
   ]
  },
  {
   "cell_type": "markdown",
   "metadata": {},
   "source": [
    "Now we will read the csv file into a Polars DataFrame, and display the first rows."
   ]
  },
  {
   "cell_type": "code",
   "execution_count": 84,
   "metadata": {},
   "outputs": [
    {
     "data": {
      "text/html": [
       "<div><style>\n",
       ".dataframe > thead > tr > th,\n",
       ".dataframe > tbody > tr > td {\n",
       "  text-align: right;\n",
       "  white-space: pre-wrap;\n",
       "}\n",
       "</style>\n",
       "<small>shape: (5, 21)</small><table border=\"1\" class=\"dataframe\"><thead><tr><th>Track ID</th><th>Name</th><th>Artist</th><th>Album Artist</th><th>Album</th><th>Genre</th><th>Comments</th><th>Kind</th><th>Size</th><th>Total Time</th><th>Track Number</th><th>Year</th><th>Bit Rate</th><th>Track Count</th><th>Composer</th><th>Publisher</th><th>Location</th><th>File Folder Count</th><th>Library Folder Count</th><th>Date Modified</th><th>Date Added</th></tr><tr><td>i64</td><td>str</td><td>str</td><td>str</td><td>str</td><td>str</td><td>str</td><td>str</td><td>i64</td><td>i64</td><td>i64</td><td>i64</td><td>i64</td><td>i64</td><td>str</td><td>str</td><td>str</td><td>i64</td><td>i64</td><td>str</td><td>str</td></tr></thead><tbody><tr><td>0</td><td>&quot;A Story Of Boy…</td><td>&quot;Mychael Danna …</td><td>&quot;Mychael Danna …</td><td>&quot;(500) Days Of …</td><td>&quot;Soundtrack&quot;</td><td>null</td><td>&quot;MPEG audio fil…</td><td>1529041</td><td>95000</td><td>1</td><td>2009</td><td>128</td><td>16</td><td>null</td><td>null</td><td>&quot;file://localho…</td><td>-1</td><td>-1</td><td>&quot;2009-11-06T05:…</td><td>&quot;2023-10-23T02:…</td></tr><tr><td>1</td><td>&quot;Us&quot;</td><td>&quot;Regina Spektor…</td><td>&quot;Regina Spektor…</td><td>&quot;(500) Days Of …</td><td>&quot;Soundtrack&quot;</td><td>null</td><td>&quot;MPEG audio fil…</td><td>4640293</td><td>289000</td><td>2</td><td>2009</td><td>128</td><td>16</td><td>null</td><td>null</td><td>&quot;file://localho…</td><td>-1</td><td>-1</td><td>&quot;2009-11-06T05:…</td><td>&quot;2023-10-23T02:…</td></tr><tr><td>2</td><td>&quot;There Is A Lig…</td><td>&quot;The Smiths&quot;</td><td>&quot;The Smiths&quot;</td><td>&quot;(500) Days Of …</td><td>&quot;Soundtrack&quot;</td><td>null</td><td>&quot;MPEG audio fil…</td><td>3904714</td><td>243000</td><td>3</td><td>2009</td><td>128</td><td>16</td><td>null</td><td>null</td><td>&quot;file://localho…</td><td>-1</td><td>-1</td><td>&quot;2009-11-06T05:…</td><td>&quot;2023-10-23T02:…</td></tr><tr><td>3</td><td>&quot;Bad Kids&quot;</td><td>&quot;Black Lips&quot;</td><td>&quot;Black Lips&quot;</td><td>&quot;(500) Days Of …</td><td>&quot;Soundtrack&quot;</td><td>null</td><td>&quot;MPEG audio fil…</td><td>2056471</td><td>128000</td><td>4</td><td>2009</td><td>128</td><td>16</td><td>null</td><td>null</td><td>&quot;file://localho…</td><td>-1</td><td>-1</td><td>&quot;2009-11-06T05:…</td><td>&quot;2023-10-23T02:…</td></tr><tr><td>4</td><td>&quot;Please, Please…</td><td>&quot;The Smiths&quot;</td><td>&quot;The Smiths&quot;</td><td>&quot;(500) Days Of …</td><td>&quot;Soundtrack&quot;</td><td>null</td><td>&quot;MPEG audio fil…</td><td>1805315</td><td>112000</td><td>5</td><td>2009</td><td>128</td><td>16</td><td>null</td><td>null</td><td>&quot;file://localho…</td><td>-1</td><td>-1</td><td>&quot;2009-11-06T05:…</td><td>&quot;2023-10-23T02:…</td></tr></tbody></table></div>"
      ],
      "text/plain": [
       "shape: (5, 21)\n",
       "┌──────────┬────────────┬────────────┬────────────┬───┬────────┬───────────┬───────────┬───────────┐\n",
       "│ Track ID ┆ Name       ┆ Artist     ┆ Album      ┆ … ┆ File   ┆ Library   ┆ Date      ┆ Date      │\n",
       "│ ---      ┆ ---        ┆ ---        ┆ Artist     ┆   ┆ Folder ┆ Folder    ┆ Modified  ┆ Added     │\n",
       "│ i64      ┆ str        ┆ str        ┆ ---        ┆   ┆ Count  ┆ Count     ┆ ---       ┆ ---       │\n",
       "│          ┆            ┆            ┆ str        ┆   ┆ ---    ┆ ---       ┆ str       ┆ str       │\n",
       "│          ┆            ┆            ┆            ┆   ┆ i64    ┆ i64       ┆           ┆           │\n",
       "╞══════════╪════════════╪════════════╪════════════╪═══╪════════╪═══════════╪═══════════╪═══════════╡\n",
       "│ 0        ┆ A Story Of ┆ Mychael    ┆ Mychael    ┆ … ┆ -1     ┆ -1        ┆ 2009-11-0 ┆ 2023-10-2 │\n",
       "│          ┆ Boy Meets  ┆ Danna &    ┆ Danna &    ┆   ┆        ┆           ┆ 6T05:43:5 ┆ 3T02:03:0 │\n",
       "│          ┆ Girl       ┆ Rob        ┆ Rob        ┆   ┆        ┆           ┆ 0Z        ┆ 7Z        │\n",
       "│          ┆            ┆ Simonsen   ┆ Simonsen   ┆   ┆        ┆           ┆           ┆           │\n",
       "│ 1        ┆ Us         ┆ Regina     ┆ Regina     ┆ … ┆ -1     ┆ -1        ┆ 2009-11-0 ┆ 2023-10-2 │\n",
       "│          ┆            ┆ Spektor    ┆ Spektor    ┆   ┆        ┆           ┆ 6T05:43:5 ┆ 3T02:03:0 │\n",
       "│          ┆            ┆            ┆            ┆   ┆        ┆           ┆ 0Z        ┆ 7Z        │\n",
       "│ 2        ┆ There Is A ┆ The Smiths ┆ The Smiths ┆ … ┆ -1     ┆ -1        ┆ 2009-11-0 ┆ 2023-10-2 │\n",
       "│          ┆ Light That ┆            ┆            ┆   ┆        ┆           ┆ 6T05:43:4 ┆ 3T02:03:0 │\n",
       "│          ┆ Never      ┆            ┆            ┆   ┆        ┆           ┆ 9Z        ┆ 7Z        │\n",
       "│          ┆ Goes…      ┆            ┆            ┆   ┆        ┆           ┆           ┆           │\n",
       "│ 3        ┆ Bad Kids   ┆ Black Lips ┆ Black Lips ┆ … ┆ -1     ┆ -1        ┆ 2009-11-0 ┆ 2023-10-2 │\n",
       "│          ┆            ┆            ┆            ┆   ┆        ┆           ┆ 6T05:43:4 ┆ 3T02:03:0 │\n",
       "│          ┆            ┆            ┆            ┆   ┆        ┆           ┆ 8Z        ┆ 7Z        │\n",
       "│ 4        ┆ Please,    ┆ The Smiths ┆ The Smiths ┆ … ┆ -1     ┆ -1        ┆ 2009-11-0 ┆ 2023-10-2 │\n",
       "│          ┆ Please,    ┆            ┆            ┆   ┆        ┆           ┆ 6T05:43:4 ┆ 3T02:03:0 │\n",
       "│          ┆ Please,    ┆            ┆            ┆   ┆        ┆           ┆ 8Z        ┆ 7Z        │\n",
       "│          ┆ Let Me G…  ┆            ┆            ┆   ┆        ┆           ┆           ┆           │\n",
       "└──────────┴────────────┴────────────┴────────────┴───┴────────┴───────────┴───────────┴───────────┘"
      ]
     },
     "execution_count": 84,
     "metadata": {},
     "output_type": "execute_result"
    }
   ],
   "source": [
    "import polars as pl\n",
    "songs_df = pl.read_csv('data/music_library_export.csv')\n",
    "songs_df.head()"
   ]
  },
  {
   "cell_type": "markdown",
   "metadata": {},
   "source": [
    "Now I would like to see how many genres we have. For that, we will select the genres column from the DataFrame and display its full contents by casting it into a numpy array."
   ]
  },
  {
   "cell_type": "code",
   "execution_count": 85,
   "metadata": {},
   "outputs": [
    {
     "data": {
      "text/plain": [
       "array([[None],\n",
       "       ['(255)'],\n",
       "       ['.'],\n",
       "       ['AOR Classic Rock'],\n",
       "       ['Alt Rock'],\n",
       "       ['Alt. Rock'],\n",
       "       ['Alternative'],\n",
       "       ['Alternative & Punk'],\n",
       "       ['Alternative Rock'],\n",
       "       ['Alternative, Rock'],\n",
       "       ['Alternativo'],\n",
       "       ['Ambient'],\n",
       "       ['Ambient Alternative'],\n",
       "       ['Ambient Techance'],\n",
       "       ['Anime'],\n",
       "       ['Anti-folk'],\n",
       "       ['Arena/Power Metal'],\n",
       "       ['Avantgarde'],\n",
       "       ['Ballad'],\n",
       "       ['Banda sonora'],\n",
       "       ['Black Metal'],\n",
       "       ['Blues'],\n",
       "       ['Brit Pop'],\n",
       "       ['Brit-pop'],\n",
       "       ['Campfire Rock'],\n",
       "       ['Chiptune'],\n",
       "       ['Choral'],\n",
       "       ['Classic Hard Rock'],\n",
       "       ['Classic Pop Punk'],\n",
       "       ['Classic Rock'],\n",
       "       ['Classical'],\n",
       "       ['Cosmic Tones for Mental Therapy'],\n",
       "       ['Country'],\n",
       "       ['Dance'],\n",
       "       ['Dance & DJ'],\n",
       "       ['Dance / Disco'],\n",
       "       ['Death Metal'],\n",
       "       ['Desert Rock'],\n",
       "       ['Down-tempo / Pop / Alternativa'],\n",
       "       ['Dubstep'],\n",
       "       ['Duck Remixes'],\n",
       "       ['Duet'],\n",
       "       ['EDM: Dubstep'],\n",
       "       ['EDM: Electro House'],\n",
       "       ['EPM'],\n",
       "       ['Easy Listening'],\n",
       "       ['Electro'],\n",
       "       ['Electro House'],\n",
       "       ['Electronic'],\n",
       "       ['Electronica'],\n",
       "       ['Electronica / Pop'],\n",
       "       ['Electronica/Dance'],\n",
       "       ['Electrónica en directo / Fusión'],\n",
       "       ['Emo'],\n",
       "       ['Feminist pop'],\n",
       "       ['Folk'],\n",
       "       ['Folk / Rock / Alternativa'],\n",
       "       ['Folk-Rock'],\n",
       "       ['Freestyle'],\n",
       "       ['Game'],\n",
       "       ['Gangsta Rap'],\n",
       "       ['Garage Punk'],\n",
       "       ['General Alternative Rock'],\n",
       "       ['General Folk'],\n",
       "       ['General Indie Rock'],\n",
       "       ['General Pop'],\n",
       "       ['General Rap/Hip-Hop'],\n",
       "       ['General Rock'],\n",
       "       ['General Unclassifiable'],\n",
       "       ['Goth'],\n",
       "       ['Gothic'],\n",
       "       ['Gothic Metal'],\n",
       "       ['Gothic Rock'],\n",
       "       ['Gothic Rock / Metal / Darkwave'],\n",
       "       ['Grunge'],\n",
       "       ['Hard Rock'],\n",
       "       ['Hardcore'],\n",
       "       ['Hardcore Industrial'],\n",
       "       ['Hardcore Punk'],\n",
       "       ['Hardstyle'],\n",
       "       ['Heavy Metal'],\n",
       "       ['Hip Hop / Glam'],\n",
       "       ['Hip Hop / Pop / Rock'],\n",
       "       ['Hip Hop/Rap'],\n",
       "       ['Hip-Hop'],\n",
       "       ['Horror Punk'],\n",
       "       ['House'],\n",
       "       ['Indie'],\n",
       "       ['Indie / Rock / Electrónica'],\n",
       "       ['Indie Dance / Nu Disco'],\n",
       "       ['Indie Rock'],\n",
       "       ['Indie rock, punk rock, electronic music, chiptune'],\n",
       "       ['Indie/Acoustic/Ambient/Folk'],\n",
       "       ['Indie/Folk'],\n",
       "       ['Indie/Post Rock'],\n",
       "       ['Indie/Rock'],\n",
       "       ['Industrial'],\n",
       "       ['Instrumental'],\n",
       "       ['Instrumental Rock'],\n",
       "       ['Island Records'],\n",
       "       ['Japanese'],\n",
       "       ['Jazz'],\n",
       "       ['Latin'],\n",
       "       ['Latin / Nu-Jazz / Alternative'],\n",
       "       ['Latin Rock'],\n",
       "       ['Mash-Up'],\n",
       "       ['Melodic Black'],\n",
       "       ['Metal'],\n",
       "       ['Miscellaneous'],\n",
       "       ['Neofolk'],\n",
       "       ['New Age'],\n",
       "       ['New Wave'],\n",
       "       ['Noise'],\n",
       "       ['Oldies'],\n",
       "       ['Other'],\n",
       "       ['Polka'],\n",
       "       ['Pop'],\n",
       "       ['Pop Electronica'],\n",
       "       ['Pop Rock'],\n",
       "       ['Pop/Rock'],\n",
       "       [\"Pop/Rock 2000's\"],\n",
       "       ['Post-Rock/Experimental'],\n",
       "       ['Power Metal'],\n",
       "       ['Progressive House'],\n",
       "       ['Progressive Metal'],\n",
       "       ['Progressive Rock'],\n",
       "       ['Psychedelia'],\n",
       "       ['Psychedelic'],\n",
       "       ['Psychedelic Drone'],\n",
       "       ['Psychedelic Rock'],\n",
       "       ['Punk'],\n",
       "       ['Punk Rock'],\n",
       "       ['R&B'],\n",
       "       ['Rap'],\n",
       "       ['Reggae'],\n",
       "       ['Rock'],\n",
       "       ['Rock @'],\n",
       "       ['Rock Duro Y Heavy'],\n",
       "       ['Rock En General'],\n",
       "       ['Rock alternativo'],\n",
       "       ['Rock en Español'],\n",
       "       ['Rock en general'],\n",
       "       ['Rock/Indie'],\n",
       "       ['Rock/Indie/Alternative'],\n",
       "       ['Rock/Pop'],\n",
       "       ['Ska'],\n",
       "       ['Soul / Acústica / Pop'],\n",
       "       ['Soundtrack'],\n",
       "       ['Surf'],\n",
       "       ['Synth'],\n",
       "       ['Synth Pop'],\n",
       "       ['Synthpop'],\n",
       "       ['Tech House'],\n",
       "       ['Thrash'],\n",
       "       ['Thrash Metal'],\n",
       "       ['Top 40'],\n",
       "       ['Trip-Hop'],\n",
       "       ['Unclassifiable'],\n",
       "       ['Unknown'],\n",
       "       ['Vocal'],\n",
       "       ['World'],\n",
       "       ['bitpop'],\n",
       "       ['chillstep'],\n",
       "       ['chiptune'],\n",
       "       ['default'],\n",
       "       ['genre'],\n",
       "       ['indie'],\n",
       "       ['misc'],\n",
       "       ['rock'],\n",
       "       ['soft rock/alternative folk/folk/rock'],\n",
       "       ['soundtrack']], dtype=object)"
      ]
     },
     "execution_count": 85,
     "metadata": {},
     "output_type": "execute_result"
    }
   ],
   "source": [
    "songs_df.select(\n",
    "    pl.col('Genre')\n",
    ").unique().sort(\"Genre\").to_numpy()\n"
   ]
  },
  {
   "cell_type": "markdown",
   "metadata": {},
   "source": [
    "## Data Imputation"
   ]
  },
  {
   "cell_type": "markdown",
   "metadata": {},
   "source": [
    "We can see there are some genres that are repeated but with slight spelling or language differences, so we will try to rename them so they match the rest. We will also remove values that are not actual genres (e.g. 'unknown') and turn them into null values so we can later remove them if necessary."
   ]
  },
  {
   "cell_type": "code",
   "execution_count": 86,
   "metadata": {},
   "outputs": [
    {
     "data": {
      "text/plain": [
       "array([[None],\n",
       "       ['AOR Classic Rock'],\n",
       "       ['Alt Rock'],\n",
       "       ['Alternative'],\n",
       "       ['Alternative & Punk'],\n",
       "       ['Ambient'],\n",
       "       ['Ambient Alternative'],\n",
       "       ['Ambient Techance'],\n",
       "       ['Anime'],\n",
       "       ['Anti-folk'],\n",
       "       ['Arena/Power Metal'],\n",
       "       ['Avantgarde'],\n",
       "       ['Ballad'],\n",
       "       ['Bitpop'],\n",
       "       ['Black Metal'],\n",
       "       ['Blues'],\n",
       "       ['Brit Pop'],\n",
       "       ['Campfire Rock'],\n",
       "       ['Chillstep'],\n",
       "       ['Chiptune'],\n",
       "       ['Choral'],\n",
       "       ['Classic Hard Rock'],\n",
       "       ['Classic Pop Punk'],\n",
       "       ['Classic Rock'],\n",
       "       ['Classical'],\n",
       "       ['Cosmic Tones for Mental Therapy'],\n",
       "       ['Country'],\n",
       "       ['Dance'],\n",
       "       ['Dance & DJ'],\n",
       "       ['Dance / Disco'],\n",
       "       ['Death Metal'],\n",
       "       ['Desert Rock'],\n",
       "       ['Down-tempo / Pop / Alternativa'],\n",
       "       ['Dubstep'],\n",
       "       ['Duck Remixes'],\n",
       "       ['Duet'],\n",
       "       ['EDM: Dubstep'],\n",
       "       ['EDM: Electro House'],\n",
       "       ['EPM'],\n",
       "       ['Easy Listening'],\n",
       "       ['Electro'],\n",
       "       ['Electro House'],\n",
       "       ['Electronic'],\n",
       "       ['Electronic Pop'],\n",
       "       ['Electronica/Dance'],\n",
       "       ['Electrónica en directo / Fusión'],\n",
       "       ['Emo'],\n",
       "       ['Feminist pop'],\n",
       "       ['Folk'],\n",
       "       ['Folk / Rock / Alternativa'],\n",
       "       ['Folk-Rock'],\n",
       "       ['Freestyle'],\n",
       "       ['Game'],\n",
       "       ['Gangsta Rap'],\n",
       "       ['Garage Punk'],\n",
       "       ['Goth'],\n",
       "       ['Gothic'],\n",
       "       ['Gothic Metal'],\n",
       "       ['Gothic Rock'],\n",
       "       ['Gothic Rock / Metal / Darkwave'],\n",
       "       ['Grunge'],\n",
       "       ['Hard Rock'],\n",
       "       ['Hardcore'],\n",
       "       ['Hardcore Industrial'],\n",
       "       ['Hardcore Punk'],\n",
       "       ['Hardstyle'],\n",
       "       ['Heavy Metal'],\n",
       "       ['Hip Hop / Glam'],\n",
       "       ['Hip Hop / Pop / Rock'],\n",
       "       ['Hip Hop/Rap'],\n",
       "       ['Hip-Hop'],\n",
       "       ['Horror Punk'],\n",
       "       ['House'],\n",
       "       ['Indie'],\n",
       "       ['Indie / Rock / Electrónica'],\n",
       "       ['Indie Dance / Nu Disco'],\n",
       "       ['Indie Rock'],\n",
       "       ['Indie rock, punk rock, electronic music, chiptune'],\n",
       "       ['Indie/Acoustic/Ambient/Folk'],\n",
       "       ['Indie/Folk'],\n",
       "       ['Indie/Post Rock'],\n",
       "       ['Industrial'],\n",
       "       ['Instrumental'],\n",
       "       ['Instrumental Rock'],\n",
       "       ['Island Records'],\n",
       "       ['Japanese'],\n",
       "       ['Jazz'],\n",
       "       ['Latin'],\n",
       "       ['Latin / Nu-Jazz / Alternative'],\n",
       "       ['Latin Rock'],\n",
       "       ['Mash-Up'],\n",
       "       ['Melodic Black'],\n",
       "       ['Metal'],\n",
       "       ['Miscellaneous'],\n",
       "       ['Neofolk'],\n",
       "       ['New Age'],\n",
       "       ['New Wave'],\n",
       "       ['Noise'],\n",
       "       ['Oldies'],\n",
       "       ['Polka'],\n",
       "       ['Pop'],\n",
       "       ['Pop Rock'],\n",
       "       ['Post-Rock/Experimental'],\n",
       "       ['Power Metal'],\n",
       "       ['Progressive House'],\n",
       "       ['Progressive Metal'],\n",
       "       ['Progressive Rock'],\n",
       "       ['Psychedelia'],\n",
       "       ['Psychedelic'],\n",
       "       ['Psychedelic Drone'],\n",
       "       ['Psychedelic Rock'],\n",
       "       ['Punk'],\n",
       "       ['Punk Rock'],\n",
       "       ['R&B'],\n",
       "       ['Rap'],\n",
       "       ['Reggae'],\n",
       "       ['Rock'],\n",
       "       ['Rock en Español'],\n",
       "       ['Rock/Indie/Alternative'],\n",
       "       ['Rock/Pop'],\n",
       "       ['Ska'],\n",
       "       ['Soft Rock / Alternative Folk / Folk / Rock'],\n",
       "       ['Soul / Acústica / Pop'],\n",
       "       ['Soundtrack'],\n",
       "       ['Surf'],\n",
       "       ['Synth'],\n",
       "       ['Synth Pop'],\n",
       "       ['Synthpop'],\n",
       "       ['Tech House'],\n",
       "       ['Thrash'],\n",
       "       ['Thrash Metal'],\n",
       "       ['Top 40'],\n",
       "       ['Trip-Hop'],\n",
       "       ['Unclassifiable'],\n",
       "       ['Unknown'],\n",
       "       ['Vocal'],\n",
       "       ['World']], dtype=object)"
      ]
     },
     "execution_count": 86,
     "metadata": {},
     "output_type": "execute_result"
    }
   ],
   "source": [
    "genres = songs_df.select(\n",
    "    pl.col(\"Genre\").map_elements(\n",
    "        lambda x: \"Alternative\" if x == \"Alternativo\" else x)\n",
    "    .map_elements(\n",
    "        lambda x: \"Electronic\" if x == \"Electronica\" else x)\n",
    "    .map_elements(\n",
    "        lambda x: \"Electronic Pop\" if x in [\"Pop Electronica\", \"Electronica / Pop\"] else x)\n",
    "    .map_elements(\n",
    "        lambda x: \"Indie\" if x == \"indie\" else x)\n",
    "    .map_elements(\n",
    "        lambda x: \"Indie Rock\" if x in [\"Rock/Indie\", \"Indie/Rock\", \"General Indie Rock\"] else x)\n",
    "    .map_elements(\n",
    "        lambda x: \"Miscellaneous\" if x == \"misc\" else x)\n",
    "    .map_elements(\n",
    "        lambda x: \"Soundtrack\" if x in [\"soundtrack\", \"Banda sonora\"] else x)\n",
    "    .map_elements(\n",
    "        lambda x: \"Thrash Metal\" if x == \"Thrash Metal\" else x)\n",
    "    .map_elements(\n",
    "        lambda x: \"Alt Rock\" if x in [\"Alt. Rock\", \"Alternative Rock\", \"Rock alternativo\",\n",
    "                                      \"Alternative, Rock\", \"General Alternative Rock\"] else x)\n",
    "    .map_elements(\n",
    "        lambda x: \"Brit Pop\" if x == \"Brit-pop\" else x)\n",
    "    .map_elements(\n",
    "        lambda x: \"Pop Rock\" if x in [\"Pop/Rock\", \"Pop/Rock 2000's\"] else x)\n",
    "    .map_elements(\n",
    "        lambda x: \"Pop\" if x == \"General Pop\" else x)\n",
    "    .map_elements(\n",
    "        lambda x: \"Folk\" if x == \"General Folk\" else x)\n",
    "    .map_elements(\n",
    "        lambda x: \"Rock\" if x in [\"General Rock\", \"Rock En General\", \"Rock en general\", \"Rock @\",\n",
    "                                  \"rock\"] else x)\n",
    "    .map_elements(\n",
    "        lambda x: \"Heavy Metal\" if x == \"Rock Duro Y Heavy\" else x)\n",
    "    .map_elements(\n",
    "        lambda x: \"Hip Hop/Rap\" if x == \"General Rap/Hip-Hop\" else x)\n",
    "    .map_elements(\n",
    "        lambda x: \"Bitpop\" if x == \"bitpop\" else x)\n",
    "    .map_elements(\n",
    "        lambda x: \"Chillstep\" if x == \"chillstep\" else x)\n",
    "    .map_elements(\n",
    "        lambda x: \"Chiptune\" if x == \"chiptune\" else x)\n",
    "    .map_elements(\n",
    "        lambda x: None if x in [\"genre\", \"default\", \".\", \"(255)\", \"Other\"] else x)\n",
    "    .map_elements(\n",
    "        lambda x: \"Unclassifiable\" if x == \"General Unclassifiable\" else x)\n",
    "    .map_elements(\n",
    "        lambda x: \"Soft Rock / Alternative Folk / Folk / Rock\" if x == \"soft rock/alternative folk/folk/rock\" else x)\n",
    "    .alias(\"Genre\")\n",
    ").to_series()\n",
    "\n",
    "songs_df = songs_df.with_columns(genres.alias(\"Genre\"))\n",
    "songs_df.select(\n",
    "    pl.col('Genre')\n",
    ").unique().sort(\"Genre\").to_numpy()\n"
   ]
  },
  {
   "cell_type": "markdown",
   "metadata": {},
   "source": [
    "Since we don't want null values in the Genre and Year columns, we will remove them."
   ]
  },
  {
   "cell_type": "code",
   "execution_count": 87,
   "metadata": {},
   "outputs": [],
   "source": [
    "songs_df = songs_df.drop_nulls([\"Genre\"])\n",
    "songs_df = songs_df.drop_nulls([\"Year\"])"
   ]
  },
  {
   "cell_type": "markdown",
   "metadata": {},
   "source": [
    "Some songs have invalid years so let's filter those out as well."
   ]
  },
  {
   "cell_type": "code",
   "execution_count": 88,
   "metadata": {},
   "outputs": [],
   "source": [
    "songs_df = songs_df.filter(pl.col('Year') > 1000).filter(pl.col('Year') < 2024)"
   ]
  },
  {
   "cell_type": "markdown",
   "metadata": {},
   "source": [
    "We will finally remove the Comments, File Folder Count, Library Folder Count, Kind, and Location columns since they don't contain useful/relevant data."
   ]
  },
  {
   "cell_type": "code",
   "execution_count": 89,
   "metadata": {},
   "outputs": [
    {
     "data": {
      "text/html": [
       "<div><style>\n",
       ".dataframe > thead > tr > th,\n",
       ".dataframe > tbody > tr > td {\n",
       "  text-align: right;\n",
       "  white-space: pre-wrap;\n",
       "}\n",
       "</style>\n",
       "<small>shape: (5, 16)</small><table border=\"1\" class=\"dataframe\"><thead><tr><th>Track ID</th><th>Name</th><th>Artist</th><th>Album Artist</th><th>Album</th><th>Genre</th><th>Size</th><th>Total Time</th><th>Track Number</th><th>Year</th><th>Bit Rate</th><th>Track Count</th><th>Composer</th><th>Publisher</th><th>Date Modified</th><th>Date Added</th></tr><tr><td>i64</td><td>str</td><td>str</td><td>str</td><td>str</td><td>str</td><td>i64</td><td>i64</td><td>i64</td><td>i64</td><td>i64</td><td>i64</td><td>str</td><td>str</td><td>str</td><td>str</td></tr></thead><tbody><tr><td>0</td><td>&quot;A Story Of Boy…</td><td>&quot;Mychael Danna …</td><td>&quot;Mychael Danna …</td><td>&quot;(500) Days Of …</td><td>&quot;Soundtrack&quot;</td><td>1529041</td><td>95000</td><td>1</td><td>2009</td><td>128</td><td>16</td><td>null</td><td>null</td><td>&quot;2009-11-06T05:…</td><td>&quot;2023-10-23T02:…</td></tr><tr><td>1</td><td>&quot;Us&quot;</td><td>&quot;Regina Spektor…</td><td>&quot;Regina Spektor…</td><td>&quot;(500) Days Of …</td><td>&quot;Soundtrack&quot;</td><td>4640293</td><td>289000</td><td>2</td><td>2009</td><td>128</td><td>16</td><td>null</td><td>null</td><td>&quot;2009-11-06T05:…</td><td>&quot;2023-10-23T02:…</td></tr><tr><td>2</td><td>&quot;There Is A Lig…</td><td>&quot;The Smiths&quot;</td><td>&quot;The Smiths&quot;</td><td>&quot;(500) Days Of …</td><td>&quot;Soundtrack&quot;</td><td>3904714</td><td>243000</td><td>3</td><td>2009</td><td>128</td><td>16</td><td>null</td><td>null</td><td>&quot;2009-11-06T05:…</td><td>&quot;2023-10-23T02:…</td></tr><tr><td>3</td><td>&quot;Bad Kids&quot;</td><td>&quot;Black Lips&quot;</td><td>&quot;Black Lips&quot;</td><td>&quot;(500) Days Of …</td><td>&quot;Soundtrack&quot;</td><td>2056471</td><td>128000</td><td>4</td><td>2009</td><td>128</td><td>16</td><td>null</td><td>null</td><td>&quot;2009-11-06T05:…</td><td>&quot;2023-10-23T02:…</td></tr><tr><td>4</td><td>&quot;Please, Please…</td><td>&quot;The Smiths&quot;</td><td>&quot;The Smiths&quot;</td><td>&quot;(500) Days Of …</td><td>&quot;Soundtrack&quot;</td><td>1805315</td><td>112000</td><td>5</td><td>2009</td><td>128</td><td>16</td><td>null</td><td>null</td><td>&quot;2009-11-06T05:…</td><td>&quot;2023-10-23T02:…</td></tr></tbody></table></div>"
      ],
      "text/plain": [
       "shape: (5, 16)\n",
       "┌──────────┬────────────┬───────────┬───────────┬───┬──────────┬───────────┬───────────┬───────────┐\n",
       "│ Track ID ┆ Name       ┆ Artist    ┆ Album     ┆ … ┆ Composer ┆ Publisher ┆ Date      ┆ Date      │\n",
       "│ ---      ┆ ---        ┆ ---       ┆ Artist    ┆   ┆ ---      ┆ ---       ┆ Modified  ┆ Added     │\n",
       "│ i64      ┆ str        ┆ str       ┆ ---       ┆   ┆ str      ┆ str       ┆ ---       ┆ ---       │\n",
       "│          ┆            ┆           ┆ str       ┆   ┆          ┆           ┆ str       ┆ str       │\n",
       "╞══════════╪════════════╪═══════════╪═══════════╪═══╪══════════╪═══════════╪═══════════╪═══════════╡\n",
       "│ 0        ┆ A Story Of ┆ Mychael   ┆ Mychael   ┆ … ┆ null     ┆ null      ┆ 2009-11-0 ┆ 2023-10-2 │\n",
       "│          ┆ Boy Meets  ┆ Danna &   ┆ Danna &   ┆   ┆          ┆           ┆ 6T05:43:5 ┆ 3T02:03:0 │\n",
       "│          ┆ Girl       ┆ Rob       ┆ Rob       ┆   ┆          ┆           ┆ 0Z        ┆ 7Z        │\n",
       "│          ┆            ┆ Simonsen  ┆ Simonsen  ┆   ┆          ┆           ┆           ┆           │\n",
       "│ 1        ┆ Us         ┆ Regina    ┆ Regina    ┆ … ┆ null     ┆ null      ┆ 2009-11-0 ┆ 2023-10-2 │\n",
       "│          ┆            ┆ Spektor   ┆ Spektor   ┆   ┆          ┆           ┆ 6T05:43:5 ┆ 3T02:03:0 │\n",
       "│          ┆            ┆           ┆           ┆   ┆          ┆           ┆ 0Z        ┆ 7Z        │\n",
       "│ 2        ┆ There Is A ┆ The       ┆ The       ┆ … ┆ null     ┆ null      ┆ 2009-11-0 ┆ 2023-10-2 │\n",
       "│          ┆ Light That ┆ Smiths    ┆ Smiths    ┆   ┆          ┆           ┆ 6T05:43:4 ┆ 3T02:03:0 │\n",
       "│          ┆ Never      ┆           ┆           ┆   ┆          ┆           ┆ 9Z        ┆ 7Z        │\n",
       "│          ┆ Goes…      ┆           ┆           ┆   ┆          ┆           ┆           ┆           │\n",
       "│ 3        ┆ Bad Kids   ┆ Black     ┆ Black     ┆ … ┆ null     ┆ null      ┆ 2009-11-0 ┆ 2023-10-2 │\n",
       "│          ┆            ┆ Lips      ┆ Lips      ┆   ┆          ┆           ┆ 6T05:43:4 ┆ 3T02:03:0 │\n",
       "│          ┆            ┆           ┆           ┆   ┆          ┆           ┆ 8Z        ┆ 7Z        │\n",
       "│ 4        ┆ Please,    ┆ The       ┆ The       ┆ … ┆ null     ┆ null      ┆ 2009-11-0 ┆ 2023-10-2 │\n",
       "│          ┆ Please,    ┆ Smiths    ┆ Smiths    ┆   ┆          ┆           ┆ 6T05:43:4 ┆ 3T02:03:0 │\n",
       "│          ┆ Please,    ┆           ┆           ┆   ┆          ┆           ┆ 8Z        ┆ 7Z        │\n",
       "│          ┆ Let Me G…  ┆           ┆           ┆   ┆          ┆           ┆           ┆           │\n",
       "└──────────┴────────────┴───────────┴───────────┴───┴──────────┴───────────┴───────────┴───────────┘"
      ]
     },
     "execution_count": 89,
     "metadata": {},
     "output_type": "execute_result"
    }
   ],
   "source": [
    "songs_df.drop_in_place(\"Comments\")\n",
    "songs_df.drop_in_place(\"File Folder Count\")\n",
    "songs_df.drop_in_place(\"Library Folder Count\")\n",
    "songs_df.drop_in_place(\"Kind\")\n",
    "songs_df.drop_in_place(\"Location\")\n",
    "songs_df.head()"
   ]
  },
  {
   "cell_type": "markdown",
   "metadata": {},
   "source": [
    "## EDA"
   ]
  },
  {
   "cell_type": "markdown",
   "metadata": {},
   "source": [
    "First, let's see how many songs we have of each genre."
   ]
  },
  {
   "cell_type": "code",
   "execution_count": 120,
   "metadata": {},
   "outputs": [
    {
     "data": {
      "text/html": [
       "<div><style>\n",
       ".dataframe > thead > tr > th,\n",
       ".dataframe > tbody > tr > td {\n",
       "  text-align: right;\n",
       "  white-space: pre-wrap;\n",
       "}\n",
       "</style>\n",
       "<small>shape: (131, 2)</small><table border=\"1\" class=\"dataframe\"><thead><tr><th>Genre</th><th>counts</th></tr><tr><td>str</td><td>u32</td></tr></thead><tbody><tr><td>&quot;Electronic Pop…</td><td>3</td></tr><tr><td>&quot;Alternative&quot;</td><td>169</td></tr><tr><td>&quot;Garage Punk&quot;</td><td>9</td></tr><tr><td>&quot;Freestyle&quot;</td><td>1</td></tr><tr><td>&quot;Progressive Ro…</td><td>9</td></tr><tr><td>&quot;Rock/Pop&quot;</td><td>24</td></tr><tr><td>&quot;Indie/Acoustic…</td><td>1</td></tr><tr><td>&quot;Mash-Up&quot;</td><td>6</td></tr><tr><td>&quot;Duet&quot;</td><td>21</td></tr><tr><td>&quot;Hardstyle&quot;</td><td>1</td></tr><tr><td>&quot;Chiptune&quot;</td><td>81</td></tr><tr><td>&quot;Ballad&quot;</td><td>1</td></tr><tr><td>&hellip;</td><td>&hellip;</td></tr><tr><td>&quot;Feminist pop&quot;</td><td>12</td></tr><tr><td>&quot;Cosmic Tones f…</td><td>12</td></tr><tr><td>&quot;EPM&quot;</td><td>4</td></tr><tr><td>&quot;Country&quot;</td><td>1</td></tr><tr><td>&quot;Oldies&quot;</td><td>1</td></tr><tr><td>&quot;Unknown&quot;</td><td>2</td></tr><tr><td>&quot;Indie Rock&quot;</td><td>87</td></tr><tr><td>&quot;Latin&quot;</td><td>122</td></tr><tr><td>&quot;Jazz&quot;</td><td>24</td></tr><tr><td>&quot;Instrumental&quot;</td><td>11</td></tr><tr><td>&quot;Down-tempo / P…</td><td>1</td></tr><tr><td>&quot;Hip Hop / Pop …</td><td>1</td></tr></tbody></table></div>"
      ],
      "text/plain": [
       "shape: (131, 2)\n",
       "┌────────────────────────────────┬────────┐\n",
       "│ Genre                          ┆ counts │\n",
       "│ ---                            ┆ ---    │\n",
       "│ str                            ┆ u32    │\n",
       "╞════════════════════════════════╪════════╡\n",
       "│ Electronic Pop                 ┆ 3      │\n",
       "│ Alternative                    ┆ 169    │\n",
       "│ Garage Punk                    ┆ 9      │\n",
       "│ Freestyle                      ┆ 1      │\n",
       "│ …                              ┆ …      │\n",
       "│ Jazz                           ┆ 24     │\n",
       "│ Instrumental                   ┆ 11     │\n",
       "│ Down-tempo / Pop / Alternativa ┆ 1      │\n",
       "│ Hip Hop / Pop / Rock           ┆ 1      │\n",
       "└────────────────────────────────┴────────┘"
      ]
     },
     "execution_count": 120,
     "metadata": {},
     "output_type": "execute_result"
    }
   ],
   "source": [
    "songs_by_genre = songs_df.select(\n",
    "    pl.col('Genre')\n",
    ").to_series().value_counts()\n",
    "songs_by_genre"
   ]
  },
  {
   "cell_type": "markdown",
   "metadata": {},
   "source": [
    "Now let's get a chart of the top 10 genres with most songs using Altair, and highlight the one with most songs."
   ]
  },
  {
   "cell_type": "code",
   "execution_count": 91,
   "metadata": {},
   "outputs": [
    {
     "data": {
      "text/html": [
       "\n",
       "<style>\n",
       "  #altair-viz-e138d263dac64e048c432ea483a4172b.vega-embed {\n",
       "    width: 100%;\n",
       "    display: flex;\n",
       "  }\n",
       "\n",
       "  #altair-viz-e138d263dac64e048c432ea483a4172b.vega-embed details,\n",
       "  #altair-viz-e138d263dac64e048c432ea483a4172b.vega-embed details summary {\n",
       "    position: relative;\n",
       "  }\n",
       "</style>\n",
       "<div id=\"altair-viz-e138d263dac64e048c432ea483a4172b\"></div>\n",
       "<script type=\"text/javascript\">\n",
       "  var VEGA_DEBUG = (typeof VEGA_DEBUG == \"undefined\") ? {} : VEGA_DEBUG;\n",
       "  (function(spec, embedOpt){\n",
       "    let outputDiv = document.currentScript.previousElementSibling;\n",
       "    if (outputDiv.id !== \"altair-viz-e138d263dac64e048c432ea483a4172b\") {\n",
       "      outputDiv = document.getElementById(\"altair-viz-e138d263dac64e048c432ea483a4172b\");\n",
       "    }\n",
       "    const paths = {\n",
       "      \"vega\": \"https://cdn.jsdelivr.net/npm/vega@5?noext\",\n",
       "      \"vega-lib\": \"https://cdn.jsdelivr.net/npm/vega-lib?noext\",\n",
       "      \"vega-lite\": \"https://cdn.jsdelivr.net/npm/vega-lite@5.14.1?noext\",\n",
       "      \"vega-embed\": \"https://cdn.jsdelivr.net/npm/vega-embed@6?noext\",\n",
       "    };\n",
       "\n",
       "    function maybeLoadScript(lib, version) {\n",
       "      var key = `${lib.replace(\"-\", \"\")}_version`;\n",
       "      return (VEGA_DEBUG[key] == version) ?\n",
       "        Promise.resolve(paths[lib]) :\n",
       "        new Promise(function(resolve, reject) {\n",
       "          var s = document.createElement('script');\n",
       "          document.getElementsByTagName(\"head\")[0].appendChild(s);\n",
       "          s.async = true;\n",
       "          s.onload = () => {\n",
       "            VEGA_DEBUG[key] = version;\n",
       "            return resolve(paths[lib]);\n",
       "          };\n",
       "          s.onerror = () => reject(`Error loading script: ${paths[lib]}`);\n",
       "          s.src = paths[lib];\n",
       "        });\n",
       "    }\n",
       "\n",
       "    function showError(err) {\n",
       "      outputDiv.innerHTML = `<div class=\"error\" style=\"color:red;\">${err}</div>`;\n",
       "      throw err;\n",
       "    }\n",
       "\n",
       "    function displayChart(vegaEmbed) {\n",
       "      vegaEmbed(outputDiv, spec, embedOpt)\n",
       "        .catch(err => showError(`Javascript Error: ${err.message}<br>This usually means there's a typo in your chart specification. See the javascript console for the full traceback.`));\n",
       "    }\n",
       "\n",
       "    if(typeof define === \"function\" && define.amd) {\n",
       "      requirejs.config({paths});\n",
       "      require([\"vega-embed\"], displayChart, err => showError(`Error loading script: ${err.message}`));\n",
       "    } else {\n",
       "      maybeLoadScript(\"vega\", \"5\")\n",
       "        .then(() => maybeLoadScript(\"vega-lite\", \"5.14.1\"))\n",
       "        .then(() => maybeLoadScript(\"vega-embed\", \"6\"))\n",
       "        .catch(showError)\n",
       "        .then(() => displayChart(vegaEmbed));\n",
       "    }\n",
       "  })({\"config\": {\"view\": {\"continuousWidth\": 300, \"continuousHeight\": 300}}, \"data\": {\"name\": \"data-e60f2fc43baf68bdddef134d5ff0f15f\"}, \"mark\": {\"type\": \"bar\"}, \"encoding\": {\"color\": {\"condition\": {\"test\": \"(datum.Genre === 'Indie')\", \"value\": \"orange\"}, \"value\": \"steelblue\"}, \"x\": {\"field\": \"counts\", \"title\": \"Songs\", \"type\": \"quantitative\"}, \"y\": {\"field\": \"Genre\", \"type\": \"nominal\"}}, \"title\": \"Top 10 Genres\", \"$schema\": \"https://vega.github.io/schema/vega-lite/v5.14.1.json\", \"datasets\": {\"data-e60f2fc43baf68bdddef134d5ff0f15f\": [{\"Genre\": \"Indie\", \"counts\": 2012}, {\"Genre\": \"Rock\", \"counts\": 1365}, {\"Genre\": \"Metal\", \"counts\": 776}, {\"Genre\": \"Pop\", \"counts\": 404}, {\"Genre\": \"Electronic\", \"counts\": 394}, {\"Genre\": \"Hard Rock\", \"counts\": 303}, {\"Genre\": \"Heavy Metal\", \"counts\": 291}, {\"Genre\": \"Blues\", \"counts\": 253}, {\"Genre\": \"Soundtrack\", \"counts\": 191}, {\"Genre\": \"Alternative\", \"counts\": 169}]}}, {\"mode\": \"vega-lite\"});\n",
       "</script>"
      ],
      "text/plain": [
       "alt.Chart(...)"
      ]
     },
     "execution_count": 91,
     "metadata": {},
     "output_type": "execute_result"
    }
   ],
   "source": [
    "import altair as alt\n",
    "\n",
    "top_10_genres = songs_by_genre.top_k(10, by=\"counts\")\n",
    "top_genre = top_10_genres.top_k(1, by=\"counts\").to_numpy()[0][0]\n",
    "alt.Chart(top_10_genres, title=\"Top 10 Genres\").mark_bar().encode(\n",
    "    x=alt.X('counts', title=\"Songs\"),\n",
    "    y='Genre',\n",
    "    color=alt.condition(\n",
    "        alt.datum.Genre == top_genre,\n",
    "        alt.value('orange'),\n",
    "        alt.value('steelblue')\n",
    "    )\n",
    ")"
   ]
  },
  {
   "cell_type": "markdown",
   "metadata": {},
   "source": [
    "Let's now see what's the average song duration per Genre. The duration is in the Total Time column in milliseconds, so we will divide it by 60000 to get the value in minutes, and round it up to 1 decimal."
   ]
  },
  {
   "cell_type": "code",
   "execution_count": 118,
   "metadata": {},
   "outputs": [
    {
     "data": {
      "text/html": [
       "<div><style>\n",
       ".dataframe > thead > tr > th,\n",
       ".dataframe > tbody > tr > td {\n",
       "  text-align: right;\n",
       "  white-space: pre-wrap;\n",
       "}\n",
       "</style>\n",
       "<small>shape: (131, 2)</small><table border=\"1\" class=\"dataframe\"><thead><tr><th>Genre</th><th>Minutes</th></tr><tr><td>str</td><td>f64</td></tr></thead><tbody><tr><td>&quot;Reggae&quot;</td><td>3.5</td></tr><tr><td>&quot;Game&quot;</td><td>2.4</td></tr><tr><td>&quot;Indie/Acoustic…</td><td>4.8</td></tr><tr><td>&quot;Japanese&quot;</td><td>3.3</td></tr><tr><td>&quot;Progressive Ho…</td><td>6.1</td></tr><tr><td>&quot;Horror Punk&quot;</td><td>2.6</td></tr><tr><td>&quot;Goth&quot;</td><td>5.8</td></tr><tr><td>&quot;Duet&quot;</td><td>3.2</td></tr><tr><td>&quot;Psychedelic&quot;</td><td>2.6</td></tr><tr><td>&quot;Dubstep&quot;</td><td>2.2</td></tr><tr><td>&quot;R&amp;B&quot;</td><td>0.1</td></tr><tr><td>&quot;Progressive Me…</td><td>8.2</td></tr><tr><td>&hellip;</td><td>&hellip;</td></tr><tr><td>&quot;Psychedelic Ro…</td><td>3.8</td></tr><tr><td>&quot;Chillstep&quot;</td><td>2.3</td></tr><tr><td>&quot;Classical&quot;</td><td>3.8</td></tr><tr><td>&quot;Punk&quot;</td><td>3.0</td></tr><tr><td>&quot;Grunge&quot;</td><td>4.8</td></tr><tr><td>&quot;Cosmic Tones f…</td><td>4.2</td></tr><tr><td>&quot;Latin / Nu-Jaz…</td><td>3.7</td></tr><tr><td>&quot;Alternative &amp; …</td><td>3.8</td></tr><tr><td>&quot;Brit Pop&quot;</td><td>5.5</td></tr><tr><td>&quot;Melodic Black&quot;</td><td>6.5</td></tr><tr><td>&quot;Metal&quot;</td><td>4.9</td></tr><tr><td>&quot;New Wave&quot;</td><td>4.6</td></tr></tbody></table></div>"
      ],
      "text/plain": [
       "shape: (131, 2)\n",
       "┌─────────────────────────────┬─────────┐\n",
       "│ Genre                       ┆ Minutes │\n",
       "│ ---                         ┆ ---     │\n",
       "│ str                         ┆ f64     │\n",
       "╞═════════════════════════════╪═════════╡\n",
       "│ Reggae                      ┆ 3.5     │\n",
       "│ Game                        ┆ 2.4     │\n",
       "│ Indie/Acoustic/Ambient/Folk ┆ 4.8     │\n",
       "│ Japanese                    ┆ 3.3     │\n",
       "│ …                           ┆ …       │\n",
       "│ Brit Pop                    ┆ 5.5     │\n",
       "│ Melodic Black               ┆ 6.5     │\n",
       "│ Metal                       ┆ 4.9     │\n",
       "│ New Wave                    ┆ 4.6     │\n",
       "└─────────────────────────────┴─────────┘"
      ]
     },
     "execution_count": 118,
     "metadata": {},
     "output_type": "execute_result"
    }
   ],
   "source": [
    "avg_duration_per_genre = songs_df.group_by('Genre').agg(\n",
    "    (pl.mean('Total Time')/60000).round(1).alias('Minutes')\n",
    ")\n",
    "avg_duration_per_genre"
   ]
  },
  {
   "cell_type": "markdown",
   "metadata": {},
   "source": [
    "And now let's get the top 10 Genres with the longest average song duration."
   ]
  },
  {
   "cell_type": "code",
   "execution_count": 93,
   "metadata": {},
   "outputs": [
    {
     "data": {
      "text/html": [
       "<div><style>\n",
       ".dataframe > thead > tr > th,\n",
       ".dataframe > tbody > tr > td {\n",
       "  text-align: right;\n",
       "  white-space: pre-wrap;\n",
       "}\n",
       "</style>\n",
       "<small>shape: (10, 2)</small><table border=\"1\" class=\"dataframe\"><thead><tr><th>Genre</th><th>Minutes</th></tr><tr><td>str</td><td>f64</td></tr></thead><tbody><tr><td>&quot;Hardstyle&quot;</td><td>60.0</td></tr><tr><td>&quot;Progressive Ro…</td><td>9.1</td></tr><tr><td>&quot;Ballad&quot;</td><td>9.0</td></tr><tr><td>&quot;Progressive Me…</td><td>8.2</td></tr><tr><td>&quot;Psychedelia&quot;</td><td>7.6</td></tr><tr><td>&quot;Campfire Rock&quot;</td><td>7.4</td></tr><tr><td>&quot;Ambient&quot;</td><td>7.2</td></tr><tr><td>&quot;Indie/Post Roc…</td><td>7.0</td></tr><tr><td>&quot;Ambient Techan…</td><td>6.8</td></tr><tr><td>&quot;Arena/Power Me…</td><td>6.8</td></tr></tbody></table></div>"
      ],
      "text/plain": [
       "shape: (10, 2)\n",
       "┌───────────────────┬─────────┐\n",
       "│ Genre             ┆ Minutes │\n",
       "│ ---               ┆ ---     │\n",
       "│ str               ┆ f64     │\n",
       "╞═══════════════════╪═════════╡\n",
       "│ Hardstyle         ┆ 60.0    │\n",
       "│ Progressive Rock  ┆ 9.1     │\n",
       "│ Ballad            ┆ 9.0     │\n",
       "│ Progressive Metal ┆ 8.2     │\n",
       "│ …                 ┆ …       │\n",
       "│ Ambient           ┆ 7.2     │\n",
       "│ Indie/Post Rock   ┆ 7.0     │\n",
       "│ Ambient Techance  ┆ 6.8     │\n",
       "│ Arena/Power Metal ┆ 6.8     │\n",
       "└───────────────────┴─────────┘"
      ]
     },
     "execution_count": 93,
     "metadata": {},
     "output_type": "execute_result"
    }
   ],
   "source": [
    "top_10_avg_duration = avg_duration_per_genre.top_k(10, by=\"Minutes\")\n",
    "top_10_avg_duration"
   ]
  },
  {
   "cell_type": "markdown",
   "metadata": {},
   "source": [
    "And finally let's plot them in Altair highlighting the one with the longest average duration."
   ]
  },
  {
   "cell_type": "code",
   "execution_count": 94,
   "metadata": {},
   "outputs": [
    {
     "data": {
      "text/html": [
       "\n",
       "<style>\n",
       "  #altair-viz-94c59459b95b46e0865a4ebbeb731745.vega-embed {\n",
       "    width: 100%;\n",
       "    display: flex;\n",
       "  }\n",
       "\n",
       "  #altair-viz-94c59459b95b46e0865a4ebbeb731745.vega-embed details,\n",
       "  #altair-viz-94c59459b95b46e0865a4ebbeb731745.vega-embed details summary {\n",
       "    position: relative;\n",
       "  }\n",
       "</style>\n",
       "<div id=\"altair-viz-94c59459b95b46e0865a4ebbeb731745\"></div>\n",
       "<script type=\"text/javascript\">\n",
       "  var VEGA_DEBUG = (typeof VEGA_DEBUG == \"undefined\") ? {} : VEGA_DEBUG;\n",
       "  (function(spec, embedOpt){\n",
       "    let outputDiv = document.currentScript.previousElementSibling;\n",
       "    if (outputDiv.id !== \"altair-viz-94c59459b95b46e0865a4ebbeb731745\") {\n",
       "      outputDiv = document.getElementById(\"altair-viz-94c59459b95b46e0865a4ebbeb731745\");\n",
       "    }\n",
       "    const paths = {\n",
       "      \"vega\": \"https://cdn.jsdelivr.net/npm/vega@5?noext\",\n",
       "      \"vega-lib\": \"https://cdn.jsdelivr.net/npm/vega-lib?noext\",\n",
       "      \"vega-lite\": \"https://cdn.jsdelivr.net/npm/vega-lite@5.14.1?noext\",\n",
       "      \"vega-embed\": \"https://cdn.jsdelivr.net/npm/vega-embed@6?noext\",\n",
       "    };\n",
       "\n",
       "    function maybeLoadScript(lib, version) {\n",
       "      var key = `${lib.replace(\"-\", \"\")}_version`;\n",
       "      return (VEGA_DEBUG[key] == version) ?\n",
       "        Promise.resolve(paths[lib]) :\n",
       "        new Promise(function(resolve, reject) {\n",
       "          var s = document.createElement('script');\n",
       "          document.getElementsByTagName(\"head\")[0].appendChild(s);\n",
       "          s.async = true;\n",
       "          s.onload = () => {\n",
       "            VEGA_DEBUG[key] = version;\n",
       "            return resolve(paths[lib]);\n",
       "          };\n",
       "          s.onerror = () => reject(`Error loading script: ${paths[lib]}`);\n",
       "          s.src = paths[lib];\n",
       "        });\n",
       "    }\n",
       "\n",
       "    function showError(err) {\n",
       "      outputDiv.innerHTML = `<div class=\"error\" style=\"color:red;\">${err}</div>`;\n",
       "      throw err;\n",
       "    }\n",
       "\n",
       "    function displayChart(vegaEmbed) {\n",
       "      vegaEmbed(outputDiv, spec, embedOpt)\n",
       "        .catch(err => showError(`Javascript Error: ${err.message}<br>This usually means there's a typo in your chart specification. See the javascript console for the full traceback.`));\n",
       "    }\n",
       "\n",
       "    if(typeof define === \"function\" && define.amd) {\n",
       "      requirejs.config({paths});\n",
       "      require([\"vega-embed\"], displayChart, err => showError(`Error loading script: ${err.message}`));\n",
       "    } else {\n",
       "      maybeLoadScript(\"vega\", \"5\")\n",
       "        .then(() => maybeLoadScript(\"vega-lite\", \"5.14.1\"))\n",
       "        .then(() => maybeLoadScript(\"vega-embed\", \"6\"))\n",
       "        .catch(showError)\n",
       "        .then(() => displayChart(vegaEmbed));\n",
       "    }\n",
       "  })({\"config\": {\"view\": {\"continuousWidth\": 300, \"continuousHeight\": 300}}, \"data\": {\"name\": \"data-fd74c3b5d1c789840e190b40542bb746\"}, \"mark\": {\"type\": \"bar\"}, \"encoding\": {\"color\": {\"condition\": {\"test\": \"(datum.Minutes === 60.0)\", \"value\": \"orange\"}, \"value\": \"steelblue\"}, \"x\": {\"axis\": {\"labelAngle\": -45}, \"field\": \"Genre\", \"type\": \"nominal\"}, \"y\": {\"field\": \"Minutes\", \"type\": \"quantitative\"}}, \"title\": \"Top 10 AVG Durations By Genre\", \"width\": 400, \"$schema\": \"https://vega.github.io/schema/vega-lite/v5.14.1.json\", \"datasets\": {\"data-fd74c3b5d1c789840e190b40542bb746\": [{\"Genre\": \"Hardstyle\", \"Minutes\": 60.0}, {\"Genre\": \"Progressive Rock\", \"Minutes\": 9.1}, {\"Genre\": \"Ballad\", \"Minutes\": 9.0}, {\"Genre\": \"Progressive Metal\", \"Minutes\": 8.2}, {\"Genre\": \"Psychedelia\", \"Minutes\": 7.6}, {\"Genre\": \"Campfire Rock\", \"Minutes\": 7.4}, {\"Genre\": \"Ambient\", \"Minutes\": 7.2}, {\"Genre\": \"Indie/Post Rock\", \"Minutes\": 7.0}, {\"Genre\": \"Ambient Techance\", \"Minutes\": 6.8}, {\"Genre\": \"Arena/Power Metal\", \"Minutes\": 6.8}]}}, {\"mode\": \"vega-lite\"});\n",
       "</script>"
      ],
      "text/plain": [
       "alt.Chart(...)"
      ]
     },
     "execution_count": 94,
     "metadata": {},
     "output_type": "execute_result"
    }
   ],
   "source": [
    "top_duration = avg_duration_per_genre.top_k(1, by=\"Minutes\").to_numpy()[0][1]\n",
    "alt.Chart(top_10_avg_duration, title=\"Top 10 AVG Durations By Genre\").mark_bar().encode(\n",
    "    x=alt.X('Genre', axis=alt.Axis(labelAngle=-45)),\n",
    "    y=\"Minutes\",\n",
    "    color=alt.condition(\n",
    "        alt.datum.Minutes == top_duration,\n",
    "        alt.value('orange'),\n",
    "        alt.value('steelblue')\n",
    "    )\n",
    ").properties(width=400)"
   ]
  },
  {
   "cell_type": "markdown",
   "metadata": {},
   "source": [
    "Now let's see how many songs we have per Year."
   ]
  },
  {
   "cell_type": "code",
   "execution_count": 117,
   "metadata": {},
   "outputs": [
    {
     "data": {
      "text/html": [
       "<div><style>\n",
       ".dataframe > thead > tr > th,\n",
       ".dataframe > tbody > tr > td {\n",
       "  text-align: right;\n",
       "  white-space: pre-wrap;\n",
       "}\n",
       "</style>\n",
       "<small>shape: (54, 2)</small><table border=\"1\" class=\"dataframe\"><thead><tr><th>Year</th><th>Songs</th></tr><tr><td>i64</td><td>u32</td></tr></thead><tbody><tr><td>1950</td><td>1</td></tr><tr><td>1951</td><td>1</td></tr><tr><td>1964</td><td>2</td></tr><tr><td>1965</td><td>1</td></tr><tr><td>1966</td><td>2</td></tr><tr><td>1967</td><td>14</td></tr><tr><td>1968</td><td>12</td></tr><tr><td>1969</td><td>48</td></tr><tr><td>1970</td><td>38</td></tr><tr><td>1971</td><td>27</td></tr><tr><td>1972</td><td>18</td></tr><tr><td>1973</td><td>24</td></tr><tr><td>&hellip;</td><td>&hellip;</td></tr><tr><td>2004</td><td>383</td></tr><tr><td>2005</td><td>475</td></tr><tr><td>2006</td><td>605</td></tr><tr><td>2007</td><td>736</td></tr><tr><td>2008</td><td>1630</td></tr><tr><td>2009</td><td>563</td></tr><tr><td>2010</td><td>218</td></tr><tr><td>2011</td><td>154</td></tr><tr><td>2012</td><td>22</td></tr><tr><td>2013</td><td>91</td></tr><tr><td>2014</td><td>205</td></tr><tr><td>2015</td><td>11</td></tr></tbody></table></div>"
      ],
      "text/plain": [
       "shape: (54, 2)\n",
       "┌──────┬───────┐\n",
       "│ Year ┆ Songs │\n",
       "│ ---  ┆ ---   │\n",
       "│ i64  ┆ u32   │\n",
       "╞══════╪═══════╡\n",
       "│ 1950 ┆ 1     │\n",
       "│ 1951 ┆ 1     │\n",
       "│ 1964 ┆ 2     │\n",
       "│ 1965 ┆ 1     │\n",
       "│ …    ┆ …     │\n",
       "│ 2012 ┆ 22    │\n",
       "│ 2013 ┆ 91    │\n",
       "│ 2014 ┆ 205   │\n",
       "│ 2015 ┆ 11    │\n",
       "└──────┴───────┘"
      ]
     },
     "execution_count": 117,
     "metadata": {},
     "output_type": "execute_result"
    }
   ],
   "source": [
    "songs_per_year = songs_df.select(\n",
    "    pl.col('Name').alias('Songs'),\n",
    "    pl.col('Year')\n",
    ").group_by('Year').agg(\n",
    "    pl.count('Songs')\n",
    ").sort(by='Year')\n",
    "songs_per_year"
   ]
  },
  {
   "cell_type": "markdown",
   "metadata": {},
   "source": [
    "And finally let's plot them on an Altair chart, and highlight the year with most songs."
   ]
  },
  {
   "cell_type": "code",
   "execution_count": 122,
   "metadata": {},
   "outputs": [
    {
     "data": {
      "text/html": [
       "\n",
       "<style>\n",
       "  #altair-viz-86690df02c8345469776ba214e577216.vega-embed {\n",
       "    width: 100%;\n",
       "    display: flex;\n",
       "  }\n",
       "\n",
       "  #altair-viz-86690df02c8345469776ba214e577216.vega-embed details,\n",
       "  #altair-viz-86690df02c8345469776ba214e577216.vega-embed details summary {\n",
       "    position: relative;\n",
       "  }\n",
       "</style>\n",
       "<div id=\"altair-viz-86690df02c8345469776ba214e577216\"></div>\n",
       "<script type=\"text/javascript\">\n",
       "  var VEGA_DEBUG = (typeof VEGA_DEBUG == \"undefined\") ? {} : VEGA_DEBUG;\n",
       "  (function(spec, embedOpt){\n",
       "    let outputDiv = document.currentScript.previousElementSibling;\n",
       "    if (outputDiv.id !== \"altair-viz-86690df02c8345469776ba214e577216\") {\n",
       "      outputDiv = document.getElementById(\"altair-viz-86690df02c8345469776ba214e577216\");\n",
       "    }\n",
       "    const paths = {\n",
       "      \"vega\": \"https://cdn.jsdelivr.net/npm/vega@5?noext\",\n",
       "      \"vega-lib\": \"https://cdn.jsdelivr.net/npm/vega-lib?noext\",\n",
       "      \"vega-lite\": \"https://cdn.jsdelivr.net/npm/vega-lite@5.14.1?noext\",\n",
       "      \"vega-embed\": \"https://cdn.jsdelivr.net/npm/vega-embed@6?noext\",\n",
       "    };\n",
       "\n",
       "    function maybeLoadScript(lib, version) {\n",
       "      var key = `${lib.replace(\"-\", \"\")}_version`;\n",
       "      return (VEGA_DEBUG[key] == version) ?\n",
       "        Promise.resolve(paths[lib]) :\n",
       "        new Promise(function(resolve, reject) {\n",
       "          var s = document.createElement('script');\n",
       "          document.getElementsByTagName(\"head\")[0].appendChild(s);\n",
       "          s.async = true;\n",
       "          s.onload = () => {\n",
       "            VEGA_DEBUG[key] = version;\n",
       "            return resolve(paths[lib]);\n",
       "          };\n",
       "          s.onerror = () => reject(`Error loading script: ${paths[lib]}`);\n",
       "          s.src = paths[lib];\n",
       "        });\n",
       "    }\n",
       "\n",
       "    function showError(err) {\n",
       "      outputDiv.innerHTML = `<div class=\"error\" style=\"color:red;\">${err}</div>`;\n",
       "      throw err;\n",
       "    }\n",
       "\n",
       "    function displayChart(vegaEmbed) {\n",
       "      vegaEmbed(outputDiv, spec, embedOpt)\n",
       "        .catch(err => showError(`Javascript Error: ${err.message}<br>This usually means there's a typo in your chart specification. See the javascript console for the full traceback.`));\n",
       "    }\n",
       "\n",
       "    if(typeof define === \"function\" && define.amd) {\n",
       "      requirejs.config({paths});\n",
       "      require([\"vega-embed\"], displayChart, err => showError(`Error loading script: ${err.message}`));\n",
       "    } else {\n",
       "      maybeLoadScript(\"vega\", \"5\")\n",
       "        .then(() => maybeLoadScript(\"vega-lite\", \"5.14.1\"))\n",
       "        .then(() => maybeLoadScript(\"vega-embed\", \"6\"))\n",
       "        .catch(showError)\n",
       "        .then(() => displayChart(vegaEmbed));\n",
       "    }\n",
       "  })({\"config\": {\"view\": {\"continuousWidth\": 300, \"continuousHeight\": 300}}, \"data\": {\"name\": \"data-24131627061abe6231d52b25d219649c\"}, \"mark\": {\"type\": \"bar\"}, \"encoding\": {\"color\": {\"condition\": {\"test\": \"(datum.Year === 2008)\", \"value\": \"orange\"}, \"value\": \"steelblue\"}, \"x\": {\"axis\": {\"labelAngle\": -45}, \"field\": \"Year\", \"type\": \"ordinal\"}, \"y\": {\"field\": \"Songs\", \"type\": \"quantitative\"}}, \"title\": \"Song number per Year\", \"$schema\": \"https://vega.github.io/schema/vega-lite/v5.14.1.json\", \"datasets\": {\"data-24131627061abe6231d52b25d219649c\": [{\"Year\": 1950, \"Songs\": 1}, {\"Year\": 1951, \"Songs\": 1}, {\"Year\": 1964, \"Songs\": 2}, {\"Year\": 1965, \"Songs\": 1}, {\"Year\": 1966, \"Songs\": 2}, {\"Year\": 1967, \"Songs\": 14}, {\"Year\": 1968, \"Songs\": 12}, {\"Year\": 1969, \"Songs\": 48}, {\"Year\": 1970, \"Songs\": 38}, {\"Year\": 1971, \"Songs\": 27}, {\"Year\": 1972, \"Songs\": 18}, {\"Year\": 1973, \"Songs\": 24}, {\"Year\": 1974, \"Songs\": 16}, {\"Year\": 1975, \"Songs\": 33}, {\"Year\": 1976, \"Songs\": 24}, {\"Year\": 1977, \"Songs\": 40}, {\"Year\": 1978, \"Songs\": 50}, {\"Year\": 1979, \"Songs\": 69}, {\"Year\": 1980, \"Songs\": 25}, {\"Year\": 1981, \"Songs\": 26}, {\"Year\": 1982, \"Songs\": 38}, {\"Year\": 1983, \"Songs\": 67}, {\"Year\": 1984, \"Songs\": 63}, {\"Year\": 1985, \"Songs\": 22}, {\"Year\": 1986, \"Songs\": 72}, {\"Year\": 1987, \"Songs\": 62}, {\"Year\": 1988, \"Songs\": 49}, {\"Year\": 1989, \"Songs\": 41}, {\"Year\": 1990, \"Songs\": 62}, {\"Year\": 1991, \"Songs\": 147}, {\"Year\": 1992, \"Songs\": 49}, {\"Year\": 1993, \"Songs\": 88}, {\"Year\": 1994, \"Songs\": 68}, {\"Year\": 1995, \"Songs\": 118}, {\"Year\": 1996, \"Songs\": 154}, {\"Year\": 1997, \"Songs\": 177}, {\"Year\": 1998, \"Songs\": 163}, {\"Year\": 1999, \"Songs\": 224}, {\"Year\": 2000, \"Songs\": 204}, {\"Year\": 2001, \"Songs\": 293}, {\"Year\": 2002, \"Songs\": 298}, {\"Year\": 2003, \"Songs\": 299}, {\"Year\": 2004, \"Songs\": 383}, {\"Year\": 2005, \"Songs\": 475}, {\"Year\": 2006, \"Songs\": 605}, {\"Year\": 2007, \"Songs\": 736}, {\"Year\": 2008, \"Songs\": 1630}, {\"Year\": 2009, \"Songs\": 563}, {\"Year\": 2010, \"Songs\": 218}, {\"Year\": 2011, \"Songs\": 154}, {\"Year\": 2012, \"Songs\": 22}, {\"Year\": 2013, \"Songs\": 91}, {\"Year\": 2014, \"Songs\": 205}, {\"Year\": 2015, \"Songs\": 11}]}}, {\"mode\": \"vega-lite\"});\n",
       "</script>"
      ],
      "text/plain": [
       "alt.Chart(...)"
      ]
     },
     "execution_count": 122,
     "metadata": {},
     "output_type": "execute_result"
    }
   ],
   "source": [
    "top_year = songs_per_year.top_k(1, by=\"Songs\").to_numpy()[0][0]\n",
    "alt.Chart(songs_per_year, title=\"Song Count per Year\").mark_bar().encode(\n",
    "    x=alt.X(\"Year:O\", axis=alt.Axis(labelAngle=-45)),\n",
    "    y=\"Songs:Q\",\n",
    "    color=alt.condition(\n",
    "        alt.datum.Year == top_year,\n",
    "        alt.value('orange'),\n",
    "        alt.value('steelblue')\n",
    "    )\n",
    ")"
   ]
  },
  {
   "cell_type": "markdown",
   "metadata": {},
   "source": [
    "## DATE ADDED HERE?"
   ]
  },
  {
   "cell_type": "markdown",
   "metadata": {},
   "source": [
    "Now we will load the last.fm export and display the first rows. This dataset has a row for each time a song was played in my Spotify library, which is separate from my Winamp one."
   ]
  },
  {
   "cell_type": "code",
   "execution_count": 107,
   "metadata": {},
   "outputs": [
    {
     "data": {
      "text/html": [
       "<div><style>\n",
       ".dataframe > thead > tr > th,\n",
       ".dataframe > tbody > tr > td {\n",
       "  text-align: right;\n",
       "  white-space: pre-wrap;\n",
       "}\n",
       "</style>\n",
       "<small>shape: (5, 8)</small><table border=\"1\" class=\"dataframe\"><thead><tr><th>uts</th><th>utc_time</th><th>artist</th><th>artist_mbid</th><th>album</th><th>album_mbid</th><th>track</th><th>track_mbid</th></tr><tr><td>i64</td><td>str</td><td>str</td><td>str</td><td>str</td><td>str</td><td>str</td><td>str</td></tr></thead><tbody><tr><td>1691282428</td><td>&quot;06 Aug 2023, 0…</td><td>&quot;Alejandro Fern…</td><td>&quot;&quot;</td><td>&quot;Hecho en Méxic…</td><td>&quot;19337281-88cb-…</td><td>&quot;Caballero&quot;</td><td>&quot;&quot;</td></tr><tr><td>1691282200</td><td>&quot;06 Aug 2023, 0…</td><td>&quot;Los Acosta&quot;</td><td>&quot;ddcbd7c8-73da-…</td><td>&quot;Intimidades&quot;</td><td>&quot;&quot;</td><td>&quot;Como Una Novel…</td><td>&quot;&quot;</td></tr><tr><td>1691281988</td><td>&quot;06 Aug 2023, 0…</td><td>&quot;Los Askis&quot;</td><td>&quot;7941c16f-c2cb-…</td><td>&quot;Pasión Y Cumbi…</td><td>&quot;&quot;</td><td>&quot;Amor Regresa&quot;</td><td>&quot;32cf21ce-274a-…</td></tr><tr><td>1691281754</td><td>&quot;06 Aug 2023, 0…</td><td>&quot;Los Ángeles Az…</td><td>&quot;dcb5e5c6-5f21-…</td><td>&quot;De Buenos Aire…</td><td>&quot;a2811b27-95b5-…</td><td>&quot;Te Necesito&quot;</td><td>&quot;&quot;</td></tr><tr><td>1691281575</td><td>&quot;06 Aug 2023, 0…</td><td>&quot;Los Ángeles Az…</td><td>&quot;dcb5e5c6-5f21-…</td><td>&quot;De Buenos Aire…</td><td>&quot;a2811b27-95b5-…</td><td>&quot;Entrega De Amo…</td><td>&quot;&quot;</td></tr></tbody></table></div>"
      ],
      "text/plain": [
       "shape: (5, 8)\n",
       "┌────────────┬────────────┬────────────┬───────────┬───────────┬───────────┬───────────┬───────────┐\n",
       "│ uts        ┆ utc_time   ┆ artist     ┆ artist_mb ┆ album     ┆ album_mbi ┆ track     ┆ track_mbi │\n",
       "│ ---        ┆ ---        ┆ ---        ┆ id        ┆ ---       ┆ d         ┆ ---       ┆ d         │\n",
       "│ i64        ┆ str        ┆ str        ┆ ---       ┆ str       ┆ ---       ┆ str       ┆ ---       │\n",
       "│            ┆            ┆            ┆ str       ┆           ┆ str       ┆           ┆ str       │\n",
       "╞════════════╪════════════╪════════════╪═══════════╪═══════════╪═══════════╪═══════════╪═══════════╡\n",
       "│ 1691282428 ┆ 06 Aug     ┆ Alejandro  ┆           ┆ Hecho en  ┆ 19337281- ┆ Caballero ┆           │\n",
       "│            ┆ 2023,      ┆ Fernández  ┆           ┆ México    ┆ 88cb-47d2 ┆           ┆           │\n",
       "│            ┆ 00:40      ┆            ┆           ┆           ┆ -b0e7-dcc ┆           ┆           │\n",
       "│            ┆            ┆            ┆           ┆           ┆ 6cb87…    ┆           ┆           │\n",
       "│ 1691282200 ┆ 06 Aug     ┆ Los Acosta ┆ ddcbd7c8- ┆ Intimidad ┆           ┆ Como Una  ┆           │\n",
       "│            ┆ 2023,      ┆            ┆ 73da-4669 ┆ es        ┆           ┆ Novela    ┆           │\n",
       "│            ┆ 00:36      ┆            ┆ -8f4a-cd0 ┆           ┆           ┆           ┆           │\n",
       "│            ┆            ┆            ┆ 20b2e…    ┆           ┆           ┆           ┆           │\n",
       "│ 1691281988 ┆ 06 Aug     ┆ Los Askis  ┆ 7941c16f- ┆ Pasión Y  ┆           ┆ Amor      ┆ 32cf21ce- │\n",
       "│            ┆ 2023,      ┆            ┆ c2cb-4cee ┆ Cumbia    ┆           ┆ Regresa   ┆ 274a-415e │\n",
       "│            ┆ 00:33      ┆            ┆ -b9e6-f2a ┆           ┆           ┆           ┆ -9695-f11 │\n",
       "│            ┆            ┆            ┆ 48775…    ┆           ┆           ┆           ┆ 20075…    │\n",
       "│ 1691281754 ┆ 06 Aug     ┆ Los        ┆ dcb5e5c6- ┆ De Buenos ┆ a2811b27- ┆ Te        ┆           │\n",
       "│            ┆ 2023,      ┆ Ángeles    ┆ 5f21-4266 ┆ Aires     ┆ 95b5-492d ┆ Necesito  ┆           │\n",
       "│            ┆ 00:29      ┆ Azules     ┆ -b5b6-556 ┆ para el   ┆ -a7c0-140 ┆           ┆           │\n",
       "│            ┆            ┆            ┆ f54a6…    ┆ Mundo     ┆ 65e99…    ┆           ┆           │\n",
       "│ 1691281575 ┆ 06 Aug     ┆ Los        ┆ dcb5e5c6- ┆ De Buenos ┆ a2811b27- ┆ Entrega   ┆           │\n",
       "│            ┆ 2023,      ┆ Ángeles    ┆ 5f21-4266 ┆ Aires     ┆ 95b5-492d ┆ De Amor   ┆           │\n",
       "│            ┆ 00:26      ┆ Azules     ┆ -b5b6-556 ┆ para el   ┆ -a7c0-140 ┆           ┆           │\n",
       "│            ┆            ┆            ┆ f54a6…    ┆ Mundo     ┆ 65e99…    ┆           ┆           │\n",
       "└────────────┴────────────┴────────────┴───────────┴───────────┴───────────┴───────────┴───────────┘"
      ]
     },
     "execution_count": 107,
     "metadata": {},
     "output_type": "execute_result"
    }
   ],
   "source": [
    "scrobbles_df = pl.read_csv(\"data/lastfm-scrobbles-edchapa.csv\")\n",
    "scrobbles_df.head()"
   ]
  },
  {
   "cell_type": "markdown",
   "metadata": {},
   "source": [
    "Let's start by removing the uts, artist_mbid, album_mbid, and track_mbid columns since they don't contain relevant information."
   ]
  },
  {
   "cell_type": "code",
   "execution_count": 108,
   "metadata": {},
   "outputs": [
    {
     "data": {
      "text/html": [
       "<div><style>\n",
       ".dataframe > thead > tr > th,\n",
       ".dataframe > tbody > tr > td {\n",
       "  text-align: right;\n",
       "  white-space: pre-wrap;\n",
       "}\n",
       "</style>\n",
       "<small>shape: (5, 4)</small><table border=\"1\" class=\"dataframe\"><thead><tr><th>utc_time</th><th>artist</th><th>album</th><th>track</th></tr><tr><td>str</td><td>str</td><td>str</td><td>str</td></tr></thead><tbody><tr><td>&quot;06 Aug 2023, 0…</td><td>&quot;Alejandro Fern…</td><td>&quot;Hecho en Méxic…</td><td>&quot;Caballero&quot;</td></tr><tr><td>&quot;06 Aug 2023, 0…</td><td>&quot;Los Acosta&quot;</td><td>&quot;Intimidades&quot;</td><td>&quot;Como Una Novel…</td></tr><tr><td>&quot;06 Aug 2023, 0…</td><td>&quot;Los Askis&quot;</td><td>&quot;Pasión Y Cumbi…</td><td>&quot;Amor Regresa&quot;</td></tr><tr><td>&quot;06 Aug 2023, 0…</td><td>&quot;Los Ángeles Az…</td><td>&quot;De Buenos Aire…</td><td>&quot;Te Necesito&quot;</td></tr><tr><td>&quot;06 Aug 2023, 0…</td><td>&quot;Los Ángeles Az…</td><td>&quot;De Buenos Aire…</td><td>&quot;Entrega De Amo…</td></tr></tbody></table></div>"
      ],
      "text/plain": [
       "shape: (5, 4)\n",
       "┌────────────────────┬─────────────────────┬───────────────────────────────┬─────────────────┐\n",
       "│ utc_time           ┆ artist              ┆ album                         ┆ track           │\n",
       "│ ---                ┆ ---                 ┆ ---                           ┆ ---             │\n",
       "│ str                ┆ str                 ┆ str                           ┆ str             │\n",
       "╞════════════════════╪═════════════════════╪═══════════════════════════════╪═════════════════╡\n",
       "│ 06 Aug 2023, 00:40 ┆ Alejandro Fernández ┆ Hecho en México               ┆ Caballero       │\n",
       "│ 06 Aug 2023, 00:36 ┆ Los Acosta          ┆ Intimidades                   ┆ Como Una Novela │\n",
       "│ 06 Aug 2023, 00:33 ┆ Los Askis           ┆ Pasión Y Cumbia               ┆ Amor Regresa    │\n",
       "│ 06 Aug 2023, 00:29 ┆ Los Ángeles Azules  ┆ De Buenos Aires para el Mundo ┆ Te Necesito     │\n",
       "│ 06 Aug 2023, 00:26 ┆ Los Ángeles Azules  ┆ De Buenos Aires para el Mundo ┆ Entrega De Amor │\n",
       "└────────────────────┴─────────────────────┴───────────────────────────────┴─────────────────┘"
      ]
     },
     "execution_count": 108,
     "metadata": {},
     "output_type": "execute_result"
    }
   ],
   "source": [
    "scrobbles_df.drop_in_place(\"uts\")\n",
    "scrobbles_df.drop_in_place(\"artist_mbid\")\n",
    "scrobbles_df.drop_in_place(\"album_mbid\")\n",
    "scrobbles_df.drop_in_place(\"track_mbid\")\n",
    "scrobbles_df.head()"
   ]
  },
  {
   "cell_type": "markdown",
   "metadata": {},
   "source": [
    "Now let's create a new column with the \"Artist\" and \"Track\" and display the DataFrame."
   ]
  },
  {
   "cell_type": "code",
   "execution_count": 109,
   "metadata": {},
   "outputs": [
    {
     "data": {
      "text/html": [
       "<div><style>\n",
       ".dataframe > thead > tr > th,\n",
       ".dataframe > tbody > tr > td {\n",
       "  text-align: right;\n",
       "  white-space: pre-wrap;\n",
       "}\n",
       "</style>\n",
       "<small>shape: (5, 5)</small><table border=\"1\" class=\"dataframe\"><thead><tr><th>utc_time</th><th>artist</th><th>album</th><th>track</th><th>Song - Artist</th></tr><tr><td>str</td><td>str</td><td>str</td><td>str</td><td>str</td></tr></thead><tbody><tr><td>&quot;06 Aug 2023, 0…</td><td>&quot;Alejandro Fern…</td><td>&quot;Hecho en Méxic…</td><td>&quot;Caballero&quot;</td><td>&quot;Caballero - Al…</td></tr><tr><td>&quot;06 Aug 2023, 0…</td><td>&quot;Los Acosta&quot;</td><td>&quot;Intimidades&quot;</td><td>&quot;Como Una Novel…</td><td>&quot;Como Una Novel…</td></tr><tr><td>&quot;06 Aug 2023, 0…</td><td>&quot;Los Askis&quot;</td><td>&quot;Pasión Y Cumbi…</td><td>&quot;Amor Regresa&quot;</td><td>&quot;Amor Regresa -…</td></tr><tr><td>&quot;06 Aug 2023, 0…</td><td>&quot;Los Ángeles Az…</td><td>&quot;De Buenos Aire…</td><td>&quot;Te Necesito&quot;</td><td>&quot;Te Necesito - …</td></tr><tr><td>&quot;06 Aug 2023, 0…</td><td>&quot;Los Ángeles Az…</td><td>&quot;De Buenos Aire…</td><td>&quot;Entrega De Amo…</td><td>&quot;Entrega De Amo…</td></tr></tbody></table></div>"
      ],
      "text/plain": [
       "shape: (5, 5)\n",
       "┌──────────────┬───────────────────────┬─────────────────┬─────────────────┬───────────────────────┐\n",
       "│ utc_time     ┆ artist                ┆ album           ┆ track           ┆ Song - Artist         │\n",
       "│ ---          ┆ ---                   ┆ ---             ┆ ---             ┆ ---                   │\n",
       "│ str          ┆ str                   ┆ str             ┆ str             ┆ str                   │\n",
       "╞══════════════╪═══════════════════════╪═════════════════╪═════════════════╪═══════════════════════╡\n",
       "│ 06 Aug 2023, ┆ Alejandro Fernández   ┆ Hecho en México ┆ Caballero       ┆ Caballero - Alejandro │\n",
       "│ 00:40        ┆                       ┆                 ┆                 ┆ Fernández             │\n",
       "│ 06 Aug 2023, ┆ Los Acosta            ┆ Intimidades     ┆ Como Una Novela ┆ Como Una Novela - Los │\n",
       "│ 00:36        ┆                       ┆                 ┆                 ┆ Acosta                │\n",
       "│ 06 Aug 2023, ┆ Los Askis             ┆ Pasión Y Cumbia ┆ Amor Regresa    ┆ Amor Regresa - Los    │\n",
       "│ 00:33        ┆                       ┆                 ┆                 ┆ Askis                 │\n",
       "│ 06 Aug 2023, ┆ Los Ángeles Azules    ┆ De Buenos Aires ┆ Te Necesito     ┆ Te Necesito - Los     │\n",
       "│ 00:29        ┆                       ┆ para el Mundo   ┆                 ┆ Ángeles Azules        │\n",
       "│ 06 Aug 2023, ┆ Los Ángeles Azules    ┆ De Buenos Aires ┆ Entrega De Amor ┆ Entrega De Amor - Los │\n",
       "│ 00:26        ┆                       ┆ para el Mundo   ┆                 ┆ Ángeles Az…           │\n",
       "└──────────────┴───────────────────────┴─────────────────┴─────────────────┴───────────────────────┘"
      ]
     },
     "execution_count": 109,
     "metadata": {},
     "output_type": "execute_result"
    }
   ],
   "source": [
    "scrobbles_df = scrobbles_df.with_columns(\n",
    "    (pl.col('track') + \" - \" + pl.col('artist')).alias(\"Song - Artist\")\n",
    ")\n",
    "scrobbles_df.head()"
   ]
  },
  {
   "cell_type": "markdown",
   "metadata": {},
   "source": [
    "Then let's get the number of times each song was played, sort it on descending order, and add a row count column."
   ]
  },
  {
   "cell_type": "code",
   "execution_count": 110,
   "metadata": {},
   "outputs": [
    {
     "data": {
      "text/html": [
       "<div><style>\n",
       ".dataframe > thead > tr > th,\n",
       ".dataframe > tbody > tr > td {\n",
       "  text-align: right;\n",
       "  white-space: pre-wrap;\n",
       "}\n",
       "</style>\n",
       "<small>shape: (5, 3)</small><table border=\"1\" class=\"dataframe\"><thead><tr><th>row_nr</th><th>Song - Artist</th><th>play_num</th></tr><tr><td>u32</td><td>str</td><td>u32</td></tr></thead><tbody><tr><td>0</td><td>&quot;Amor a primera…</td><td>117</td></tr><tr><td>1</td><td>&quot;Icy Skies - Fi…</td><td>112</td></tr><tr><td>2</td><td>&quot;Calm Down (wit…</td><td>109</td></tr><tr><td>3</td><td>&quot;On Eloquence -…</td><td>96</td></tr><tr><td>4</td><td>&quot;Caves - CLANN&quot;</td><td>95</td></tr></tbody></table></div>"
      ],
      "text/plain": [
       "shape: (5, 3)\n",
       "┌────────┬───────────────────────────────────┬──────────┐\n",
       "│ row_nr ┆ Song - Artist                     ┆ play_num │\n",
       "│ ---    ┆ ---                               ┆ ---      │\n",
       "│ u32    ┆ str                               ┆ u32      │\n",
       "╞════════╪═══════════════════════════════════╪══════════╡\n",
       "│ 0      ┆ Amor a primera vista - Los Ángel… ┆ 117      │\n",
       "│ 1      ┆ Icy Skies - Finally George        ┆ 112      │\n",
       "│ 2      ┆ Calm Down (with Selena Gomez) - … ┆ 109      │\n",
       "│ 3      ┆ On Eloquence - Ed Carlsen         ┆ 96       │\n",
       "│ 4      ┆ Caves - CLANN                     ┆ 95       │\n",
       "└────────┴───────────────────────────────────┴──────────┘"
      ]
     },
     "execution_count": 110,
     "metadata": {},
     "output_type": "execute_result"
    }
   ],
   "source": [
    "played_songs = scrobbles_df.group_by('Song - Artist').agg(\n",
    "    pl.col('Song - Artist').count().alias('play_num')\n",
    ").sort(by=\"play_num\", descending=True).with_row_count()\n",
    "played_songs.head()"
   ]
  },
  {
   "cell_type": "markdown",
   "metadata": {},
   "source": [
    "And now let's get the top 10 most played songs."
   ]
  },
  {
   "cell_type": "code",
   "execution_count": 111,
   "metadata": {},
   "outputs": [
    {
     "data": {
      "text/html": [
       "<div><style>\n",
       ".dataframe > thead > tr > th,\n",
       ".dataframe > tbody > tr > td {\n",
       "  text-align: right;\n",
       "  white-space: pre-wrap;\n",
       "}\n",
       "</style>\n",
       "<small>shape: (10, 3)</small><table border=\"1\" class=\"dataframe\"><thead><tr><th>row_nr</th><th>Song - Artist</th><th>play_num</th></tr><tr><td>u32</td><td>str</td><td>u32</td></tr></thead><tbody><tr><td>0</td><td>&quot;Amor a primera…</td><td>117</td></tr><tr><td>1</td><td>&quot;Icy Skies - Fi…</td><td>112</td></tr><tr><td>2</td><td>&quot;Calm Down (wit…</td><td>109</td></tr><tr><td>3</td><td>&quot;On Eloquence -…</td><td>96</td></tr><tr><td>4</td><td>&quot;Caves - CLANN&quot;</td><td>95</td></tr><tr><td>5</td><td>&quot;Last Breath - …</td><td>93</td></tr><tr><td>6</td><td>&quot;Entrega De Amo…</td><td>87</td></tr><tr><td>7</td><td>&quot;Le Quattro Sta…</td><td>85</td></tr><tr><td>8</td><td>&quot;Equinox - Eric…</td><td>82</td></tr><tr><td>9</td><td>&quot;Mayores - Beck…</td><td>73</td></tr></tbody></table></div>"
      ],
      "text/plain": [
       "shape: (10, 3)\n",
       "┌────────┬───────────────────────────────────┬──────────┐\n",
       "│ row_nr ┆ Song - Artist                     ┆ play_num │\n",
       "│ ---    ┆ ---                               ┆ ---      │\n",
       "│ u32    ┆ str                               ┆ u32      │\n",
       "╞════════╪═══════════════════════════════════╪══════════╡\n",
       "│ 0      ┆ Amor a primera vista - Los Ángel… ┆ 117      │\n",
       "│ 1      ┆ Icy Skies - Finally George        ┆ 112      │\n",
       "│ 2      ┆ Calm Down (with Selena Gomez) - … ┆ 109      │\n",
       "│ 3      ┆ On Eloquence - Ed Carlsen         ┆ 96       │\n",
       "│ …      ┆ …                                 ┆ …        │\n",
       "│ 6      ┆ Entrega De Amor - Los Ángeles Az… ┆ 87       │\n",
       "│ 7      ┆ Le Quattro Stagioni - Concerto N… ┆ 85       │\n",
       "│ 8      ┆ Equinox - Eric Ville de Soins     ┆ 82       │\n",
       "│ 9      ┆ Mayores - Becky G                 ┆ 73       │\n",
       "└────────┴───────────────────────────────────┴──────────┘"
      ]
     },
     "execution_count": 111,
     "metadata": {},
     "output_type": "execute_result"
    }
   ],
   "source": [
    "top_10_played_songs = played_songs.top_k(10, by=\"play_num\")\n",
    "top_10_played_songs"
   ]
  },
  {
   "cell_type": "markdown",
   "metadata": {},
   "source": [
    "Now let's chart them using Altair, highlighting the most played song."
   ]
  },
  {
   "cell_type": "code",
   "execution_count": 112,
   "metadata": {},
   "outputs": [
    {
     "data": {
      "text/html": [
       "\n",
       "<style>\n",
       "  #altair-viz-416f902016144ba49f48eeea3974c1a9.vega-embed {\n",
       "    width: 100%;\n",
       "    display: flex;\n",
       "  }\n",
       "\n",
       "  #altair-viz-416f902016144ba49f48eeea3974c1a9.vega-embed details,\n",
       "  #altair-viz-416f902016144ba49f48eeea3974c1a9.vega-embed details summary {\n",
       "    position: relative;\n",
       "  }\n",
       "</style>\n",
       "<div id=\"altair-viz-416f902016144ba49f48eeea3974c1a9\"></div>\n",
       "<script type=\"text/javascript\">\n",
       "  var VEGA_DEBUG = (typeof VEGA_DEBUG == \"undefined\") ? {} : VEGA_DEBUG;\n",
       "  (function(spec, embedOpt){\n",
       "    let outputDiv = document.currentScript.previousElementSibling;\n",
       "    if (outputDiv.id !== \"altair-viz-416f902016144ba49f48eeea3974c1a9\") {\n",
       "      outputDiv = document.getElementById(\"altair-viz-416f902016144ba49f48eeea3974c1a9\");\n",
       "    }\n",
       "    const paths = {\n",
       "      \"vega\": \"https://cdn.jsdelivr.net/npm/vega@5?noext\",\n",
       "      \"vega-lib\": \"https://cdn.jsdelivr.net/npm/vega-lib?noext\",\n",
       "      \"vega-lite\": \"https://cdn.jsdelivr.net/npm/vega-lite@5.14.1?noext\",\n",
       "      \"vega-embed\": \"https://cdn.jsdelivr.net/npm/vega-embed@6?noext\",\n",
       "    };\n",
       "\n",
       "    function maybeLoadScript(lib, version) {\n",
       "      var key = `${lib.replace(\"-\", \"\")}_version`;\n",
       "      return (VEGA_DEBUG[key] == version) ?\n",
       "        Promise.resolve(paths[lib]) :\n",
       "        new Promise(function(resolve, reject) {\n",
       "          var s = document.createElement('script');\n",
       "          document.getElementsByTagName(\"head\")[0].appendChild(s);\n",
       "          s.async = true;\n",
       "          s.onload = () => {\n",
       "            VEGA_DEBUG[key] = version;\n",
       "            return resolve(paths[lib]);\n",
       "          };\n",
       "          s.onerror = () => reject(`Error loading script: ${paths[lib]}`);\n",
       "          s.src = paths[lib];\n",
       "        });\n",
       "    }\n",
       "\n",
       "    function showError(err) {\n",
       "      outputDiv.innerHTML = `<div class=\"error\" style=\"color:red;\">${err}</div>`;\n",
       "      throw err;\n",
       "    }\n",
       "\n",
       "    function displayChart(vegaEmbed) {\n",
       "      vegaEmbed(outputDiv, spec, embedOpt)\n",
       "        .catch(err => showError(`Javascript Error: ${err.message}<br>This usually means there's a typo in your chart specification. See the javascript console for the full traceback.`));\n",
       "    }\n",
       "\n",
       "    if(typeof define === \"function\" && define.amd) {\n",
       "      requirejs.config({paths});\n",
       "      require([\"vega-embed\"], displayChart, err => showError(`Error loading script: ${err.message}`));\n",
       "    } else {\n",
       "      maybeLoadScript(\"vega\", \"5\")\n",
       "        .then(() => maybeLoadScript(\"vega-lite\", \"5.14.1\"))\n",
       "        .then(() => maybeLoadScript(\"vega-embed\", \"6\"))\n",
       "        .catch(showError)\n",
       "        .then(() => displayChart(vegaEmbed));\n",
       "    }\n",
       "  })({\"config\": {\"view\": {\"continuousWidth\": 300, \"continuousHeight\": 300}}, \"data\": {\"name\": \"data-26c8a4173112b49cefc5dcfa83a0f40d\"}, \"mark\": {\"type\": \"bar\"}, \"encoding\": {\"color\": {\"condition\": {\"test\": \"(datum.play_num === 117)\", \"value\": \"orange\"}, \"value\": \"steelblue\"}, \"x\": {\"field\": \"play_num\", \"title\": \"Number of times played\", \"type\": \"quantitative\"}, \"y\": {\"field\": \"Song - Artist\", \"type\": \"nominal\"}}, \"title\": \"Top 10 Most Played Songs\", \"$schema\": \"https://vega.github.io/schema/vega-lite/v5.14.1.json\", \"datasets\": {\"data-26c8a4173112b49cefc5dcfa83a0f40d\": [{\"row_nr\": 0, \"Song - Artist\": \"Amor a primera vista - Los \\u00c1ngeles Azules\", \"play_num\": 117}, {\"row_nr\": 1, \"Song - Artist\": \"Icy Skies - Finally George\", \"play_num\": 112}, {\"row_nr\": 2, \"Song - Artist\": \"Calm Down (with Selena Gomez) - Rema\", \"play_num\": 109}, {\"row_nr\": 3, \"Song - Artist\": \"On Eloquence - Ed Carlsen\", \"play_num\": 96}, {\"row_nr\": 4, \"Song - Artist\": \"Caves - CLANN\", \"play_num\": 95}, {\"row_nr\": 5, \"Song - Artist\": \"Last Breath - Future\", \"play_num\": 93}, {\"row_nr\": 6, \"Song - Artist\": \"Entrega De Amor - Los \\u00c1ngeles Azules\", \"play_num\": 87}, {\"row_nr\": 7, \"Song - Artist\": \"Le Quattro Stagioni - Concerto No. 4, Op. 8 RV 297: L'Inverno (Winter) I. Allegro non molto - Antonio Vivaldi\", \"play_num\": 85}, {\"row_nr\": 8, \"Song - Artist\": \"Equinox - Eric Ville de Soins\", \"play_num\": 82}, {\"row_nr\": 9, \"Song - Artist\": \"Mayores - Becky G\", \"play_num\": 73}]}}, {\"mode\": \"vega-lite\"});\n",
       "</script>"
      ],
      "text/plain": [
       "alt.Chart(...)"
      ]
     },
     "execution_count": 112,
     "metadata": {},
     "output_type": "execute_result"
    }
   ],
   "source": [
    "top_song = top_10_played_songs.top_k(1, by=\"play_num\").to_numpy()[0][2]\n",
    "alt.Chart(top_10_played_songs, title=\"Top 10 Most Played Songs\").mark_bar().encode(\n",
    "    x=alt.X('play_num', title=\"Number of times played\"),\n",
    "    y=\"Song - Artist\",\n",
    "    color=alt.condition(\n",
    "        alt.datum.play_num == top_song,\n",
    "        alt.value('orange'),\n",
    "        alt.value('steelblue')\n",
    "    )\n",
    ")"
   ]
  },
  {
   "cell_type": "markdown",
   "metadata": {},
   "source": [
    "Now let's see if we can find any correlation between the variables of our previous datasets. For that we will create ProfileReports using Python's ydata_profiling library and store them in a \"reports\" folder."
   ]
  },
  {
   "cell_type": "code",
   "execution_count": 113,
   "metadata": {},
   "outputs": [
    {
     "data": {
      "application/vnd.jupyter.widget-view+json": {
       "model_id": "a6e2d96423f6489db45533f2fac65fdd",
       "version_major": 2,
       "version_minor": 0
      },
      "text/plain": [
       "Summarize dataset:   0%|          | 0/5 [00:00<?, ?it/s]"
      ]
     },
     "metadata": {},
     "output_type": "display_data"
    },
    {
     "data": {
      "application/vnd.jupyter.widget-view+json": {
       "model_id": "d96c14abc36641658ce2c6e41422374e",
       "version_major": 2,
       "version_minor": 0
      },
      "text/plain": [
       "Generate report structure:   0%|          | 0/1 [00:00<?, ?it/s]"
      ]
     },
     "metadata": {},
     "output_type": "display_data"
    },
    {
     "data": {
      "application/vnd.jupyter.widget-view+json": {
       "model_id": "95f44cb175544e7f98b59f74b79e2106",
       "version_major": 2,
       "version_minor": 0
      },
      "text/plain": [
       "Render HTML:   0%|          | 0/1 [00:00<?, ?it/s]"
      ]
     },
     "metadata": {},
     "output_type": "display_data"
    },
    {
     "data": {
      "application/vnd.jupyter.widget-view+json": {
       "model_id": "9a5642e1c3d04596ba1b8df30b6338bb",
       "version_major": 2,
       "version_minor": 0
      },
      "text/plain": [
       "Export report to file:   0%|          | 0/1 [00:00<?, ?it/s]"
      ]
     },
     "metadata": {},
     "output_type": "display_data"
    },
    {
     "data": {
      "application/vnd.jupyter.widget-view+json": {
       "model_id": "4ad451eb8ea44403af6e53092c177b87",
       "version_major": 2,
       "version_minor": 0
      },
      "text/plain": [
       "Summarize dataset:   0%|          | 0/5 [00:00<?, ?it/s]"
      ]
     },
     "metadata": {},
     "output_type": "display_data"
    },
    {
     "data": {
      "application/vnd.jupyter.widget-view+json": {
       "model_id": "0226de3760904b4f915475adc21b0189",
       "version_major": 2,
       "version_minor": 0
      },
      "text/plain": [
       "Generate report structure:   0%|          | 0/1 [00:00<?, ?it/s]"
      ]
     },
     "metadata": {},
     "output_type": "display_data"
    },
    {
     "data": {
      "application/vnd.jupyter.widget-view+json": {
       "model_id": "08abbf4663004d849b42e4095e4225f5",
       "version_major": 2,
       "version_minor": 0
      },
      "text/plain": [
       "Render HTML:   0%|          | 0/1 [00:00<?, ?it/s]"
      ]
     },
     "metadata": {},
     "output_type": "display_data"
    },
    {
     "data": {
      "application/vnd.jupyter.widget-view+json": {
       "model_id": "6d504ff3b4cb4afc9421960581a230a7",
       "version_major": 2,
       "version_minor": 0
      },
      "text/plain": [
       "Export report to file:   0%|          | 0/1 [00:00<?, ?it/s]"
      ]
     },
     "metadata": {},
     "output_type": "display_data"
    }
   ],
   "source": [
    "from ydata_profiling import ProfileReport\n",
    "songs_profile_report = ProfileReport(songs_df.to_pandas(), title=\"All Songs Profiling Report\")\n",
    "scrobbles_profile_report = ProfileReport(scrobbles_df.to_pandas(), title=\"Scrobbles Profiling Report\")\n",
    "songs_profile_report.to_file(\"reports/All_Songs_Profile.html\")\n",
    "scrobbles_profile_report.to_file(\"reports/Scrobbles_Profile.html\")"
   ]
  },
  {
   "cell_type": "markdown",
   "metadata": {},
   "source": [
    "No correlations were found in the \"Scrobbling Profiling Report\", but from the correlations heatmap in the \"All Songs Profiling Report\" from the songs_df dataset we can see that there's a strong (and perhaps obvious) correlation between the song's duration, and its bitrate and size, so this gives us a hint to try to predict a song's duration based on its bitrate and size. This calculation could easily be done with a calculator (maybe not so accurately for songs with variable bitrates), but it will be an interesting exercise to try and predict it using a ML model. Before generating this profile report, I was not very confident any correlation would be found on any of the previous datasets, so this is a great example of how useful these types of tools are when performing an EDA."
   ]
  },
  {
   "cell_type": "markdown",
   "metadata": {},
   "source": [
    "## Modeling\n",
    "\n",
    "Let's begin by separating the variable we want to predict, in this case, the song's duration."
   ]
  },
  {
   "cell_type": "code",
   "execution_count": 119,
   "metadata": {},
   "outputs": [],
   "source": [
    "song_duration = songs_df.select(pl.col('Total Time'))\n",
    "songs_df = songs_df.drop('Total Time')"
   ]
  },
  {
   "cell_type": "markdown",
   "metadata": {},
   "source": [
    "Now we are going to split the songs_df dataset into three: our training dataset, our testing dataset, and the validation dataset. Since there's no fixed rule to pick the sizes of each, let's go with 60% of the data for training, 20% for testing, and 20% for validating the model."
   ]
  }
 ],
 "metadata": {
  "kernelspec": {
   "display_name": "Python 3",
   "language": "python",
   "name": "python3"
  },
  "language_info": {
   "codemirror_mode": {
    "name": "ipython",
    "version": 3
   },
   "file_extension": ".py",
   "mimetype": "text/x-python",
   "name": "python",
   "nbconvert_exporter": "python",
   "pygments_lexer": "ipython3",
   "version": "3.11.6"
  }
 },
 "nbformat": 4,
 "nbformat_minor": 2
}
